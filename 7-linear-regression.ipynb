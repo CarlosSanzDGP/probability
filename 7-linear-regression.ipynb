{
 "cells": [
  {
   "cell_type": "code",
   "execution_count": null,
   "metadata": {},
   "outputs": [],
   "source": [
    "## Linear Regression\n",
    "\n",
    "Linear regression is a technique for modelling the relationship between one or more predictor (or independent) variables and one or more response (or dependent) variables. Our goal using linear regression is to explain the relationship using a linear equation of the form:\n",
    "\n",
    "\n",
    "### Using scipy\n",
    "```python\n",
    "from scipy.stats import linregress\n",
    "\n",
    "auto = pd.read_csv('auto-mpg.csv')\n",
    "auto.head()\n",
    "slope, intercept, r_value, p_value, std_err = linregress(auto.acceleration, auto.mpg)\n",
    "```\n",
    "\n",
    "### Using StatsModels\n",
    "```python\n",
    "import statsmodels.api as sm\n",
    "\n",
    "X = sm.add_constant(auto.acceleration) # We must add the intercept using the add_constant function\n",
    "\n",
    "# Here, we are not limited to only one predictor variable. \n",
    "# X = sm.add_constant(auto[['cylinders', 'weight', 'acceleration']])\n",
    "\n",
    "# What we want to predict\n",
    "Y = auto.mpg\n",
    "\n",
    "model = sm.OLS(Y, X).fit()\n",
    "predictions = model.predict(X) \n",
    "\n",
    "print_model = model.summary()\n",
    "print(print_model)\n",
    "```"
   ]
  }
 ],
 "metadata": {
  "kernelspec": {
   "display_name": "Python 3",
   "language": "python",
   "name": "python3"
  },
  "language_info": {
   "codemirror_mode": {
    "name": "ipython",
    "version": 3
   },
   "file_extension": ".py",
   "mimetype": "text/x-python",
   "name": "python",
   "nbconvert_exporter": "python",
   "pygments_lexer": "ipython3",
   "version": "3.7.5"
  }
 },
 "nbformat": 4,
 "nbformat_minor": 2
}
