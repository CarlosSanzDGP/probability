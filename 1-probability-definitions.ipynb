{
 "cells": [
  {
   "cell_type": "markdown",
   "metadata": {},
   "source": [
    "# Intro to Probability\n",
    "\n",
    "## Definitions\n",
    "\n",
    "- **Population:** a population is a set of similar items or events which is of interest for some question or experiment\n",
    "- **Sample**: A subset of the population\n",
    "\n",
    "<img src=\"images/sample-size-definition.png\" style=\"width: 400px;\"/>"
   ]
  },
  {
   "cell_type": "code",
   "execution_count": 2,
   "metadata": {},
   "outputs": [
    {
     "name": "stdout",
     "output_type": "stream",
     "text": [
      "Reemplazo [5 5 8 5 5]\n",
      "No-Reemplazo [ 5  4  1  7  8 10  3  2  6]\n"
     ]
    }
   ],
   "source": [
    "import numpy as np\n",
    "population = [1,2,3,4,5,6,7,8,9,10]\n",
    "\n",
    "# Muestra con reemplazo (puede salir la misma muestra varias veces)\n",
    "s = np.random.choice(population, size=5)\n",
    "print(\"Reemplazo\",s)\n",
    "\n",
    "# Muestra sin reemplazo (nunca vuelve a salir la misma muestra)\n",
    "#  size max = len(population)\n",
    "s = np.random.choice(population, size=9, replace=False)\n",
    "print(\"No-Reemplazo\",s)\n"
   ]
  },
  {
   "cell_type": "markdown",
   "metadata": {},
   "source": [
    "## Atención, simbolos:\n",
    "- $\\bar{X}$: Representa la media del `sample`\n",
    "- $\\mu$: Representa la media de la población\n",
    "\n",
    "## Selection Bias (sesgo)\n",
    "Se refiere al hecho de realizar un sample consciente o inconscientemente de tal modo que lleve a una conclusión engañosa o efímera.\n"
   ]
  },
  {
   "cell_type": "code",
   "execution_count": null,
   "metadata": {},
   "outputs": [],
   "source": []
  },
  {
   "cell_type": "markdown",
   "metadata": {},
   "source": [
    "## Variance and STD Deviation\n",
    "**Variance**: The average of the squared differences from the Mean.\n",
    "  1. Work out the Mean (the simple average of the numbers)\n",
    "  2. Then for each number: subtract the Mean and square the result (the squared difference).\n",
    "  3. Then work out the average of those squared differences.\n",
    "\n",
    "**Standard Deviation:** Is the squared root of the variance. The Standard Deviation\n",
    "    is a measure of how spread out numbers are. \n",
    "    Its symbol is σ. it is the square root of the **Variance**.\n",
    "    \n",
    "More: [https://www.mathsisfun.com/data/standard-deviation.html]"
   ]
  },
  {
   "cell_type": "code",
   "execution_count": 6,
   "metadata": {},
   "outputs": [
    {
     "name": "stdout",
     "output_type": "stream",
     "text": [
      "0.5012357964230417\n",
      "Variance:0.083 Standard Deviation:0.288 \n"
     ]
    }
   ],
   "source": [
    "X = np.random.random(100000)\n",
    "print(X.mean())\n",
    "var = np.round(X.var(),decimals=3)\n",
    "std = np.round(X.std(),decimals=3)\n",
    "\n",
    "print(f\"Variance:{var} Standard Deviation:{std} \")\n"
   ]
  },
  {
   "cell_type": "code",
   "execution_count": null,
   "metadata": {},
   "outputs": [],
   "source": []
  },
  {
   "cell_type": "code",
   "execution_count": null,
   "metadata": {},
   "outputs": [],
   "source": []
  },
  {
   "cell_type": "code",
   "execution_count": null,
   "metadata": {},
   "outputs": [],
   "source": []
  },
  {
   "cell_type": "code",
   "execution_count": null,
   "metadata": {},
   "outputs": [],
   "source": []
  },
  {
   "cell_type": "code",
   "execution_count": null,
   "metadata": {},
   "outputs": [],
   "source": []
  },
  {
   "cell_type": "code",
   "execution_count": null,
   "metadata": {},
   "outputs": [],
   "source": []
  },
  {
   "cell_type": "code",
   "execution_count": null,
   "metadata": {},
   "outputs": [],
   "source": []
  },
  {
   "cell_type": "markdown",
   "metadata": {},
   "source": [
    "## Conditional Probability\n",
    "\n",
    "- The conditional probability P(A|B) is the probability of event A given that event B as occurred.\n",
    "  <img src=\"images/prob_conditional_1.png\" style=\"width: 300px; display:inline;\"/>\n",
    "  <img src=\"images/prob_conditional_table.png\" style=\"width: 300px; display:inline;\"/>\n",
    "  <img src=\"images/prob_conditional_formula_2.jpg\" style=\"width: 300px; display:inline;\"/>\n",
    "  <img src=\"images/prob_conditional_formula_1.jpg\" style=\"width: 300px; display:inline;\"/>\n",
    "\n",
    "\n",
    "  - **Conditional Probability visualized** http://setosa.io/conditional/\n",
    "  - **Conditional Probability Explained** https://towardsdatascience.com/conditional-probability-with-a-python-example-fd6f5937cd2"
   ]
  },
  {
   "cell_type": "markdown",
   "metadata": {},
   "source": [
    "## Mutual exclusivity of Events\n",
    "\n",
    "Two events are said to be mutually exclusive if they cannot happen at the same time.\n",
    "\n",
    "For example, if we toss a coin, either heads or tails might turn up, but not heads and tails at the same time.\n",
    "\n",
    "<div style=\"text-align:center;\">\n",
    "<img src=\"images/mutual_exclusive_1.png\" style=\"width: 300px; display:inline;\"/>\n",
    "<img src=\"images/mutual_exclusive_3.jpg\" style=\"width: 300px; display:inline;\"/>\n",
    "<img src=\"images/mutual_exclusive_2.png\" style=\"width: 300px;\"/>\n",
    "</div>\n"
   ]
  }
 ],
 "metadata": {
  "kernelspec": {
   "display_name": "Python 3",
   "language": "python",
   "name": "python3"
  },
  "language_info": {
   "codemirror_mode": {
    "name": "ipython",
    "version": 3
   },
   "file_extension": ".py",
   "mimetype": "text/x-python",
   "name": "python",
   "nbconvert_exporter": "python",
   "pygments_lexer": "ipython3",
   "version": "3.7.5"
  }
 },
 "nbformat": 4,
 "nbformat_minor": 2
}
