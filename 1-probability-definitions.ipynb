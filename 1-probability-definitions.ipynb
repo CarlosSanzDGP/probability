{
 "cells": [
  {
   "cell_type": "markdown",
   "metadata": {},
   "source": [
    "# Intro to Probability\n",
    "\n",
    "- **Population:** a population is a set of similar items or events which is of interest for some question or experiment\n",
    "- **Sample**: A subset of the population\n",
    "\n",
    "<img src=\"images/normal_distribution.png\" style=\"width: 300px;\"/>"
   ]
  },
  {
   "cell_type": "code",
   "execution_count": 3,
   "metadata": {},
   "outputs": [
    {
     "name": "stdout",
     "output_type": "stream",
     "text": [
      "Reemplazo [1 3 2 3 3]\n",
      "No-Reemplazo [ 2 10  5  6  1  3  8  4  7]\n"
     ]
    }
   ],
   "source": [
    "import numpy as np\n",
    "population = [1,2,3,4,5,6,7,8,9,10]\n",
    "\n",
    "# Muestra con reemplazo (puede salir la misma muestra varias veces)\n",
    "s = np.random.choice(population, size=5)\n",
    "print(\"Reemplazo\",s)\n",
    "\n",
    "# Muestra sin reemplazo (nunca vuelve a salir la misma muestra)\n",
    "#  size max = len(population)\n",
    "s = np.random.choice(population, size=9, replace=False)\n",
    "print(\"No-Reemplazo\",s)\n"
   ]
  },
  {
   "cell_type": "markdown",
   "metadata": {},
   "source": [
    "**Variable Aleatoria**: Es una función definida sobre el espacio muestral `S` que asigna valores\n",
    "  del conjunto R de los numeros reales.\n",
    "  Intuitivamente, asigna un valor numerico a cada posible resultado del espacio muestral.\n",
    "  Por ejemplo, si el espacio muestral es {llueve, nieva, despejado}, podemos definir una\n",
    "  variable aleatoria `X` tal que `X=3` si llueve `X=6` si nieva y `X=-2.7` si esta despejado.\n",
    "\n"
   ]
  },
  {
   "cell_type": "markdown",
   "metadata": {},
   "source": [
    "### Ejemplo Variable Aleatoria `X`\n",
    "- `P(X=3)=P(lluvia)=0.4`\n",
    "- `P(X=6)=P(nieve)=0.15`\n",
    "- `P(X=-2.7)=P(despejado)=0.45`\n",
    "También podemos calcular `P(X € {3,6}) = P(X=3) + P(X=6) = 0.4+0.15 = 0.55`\n",
    "\n",
    "**La distribución** de la variable aleatoria `X` es el conjunto de probabilidades `P(X€B)` para todo subconjunto `B` de numeros reales. La probabolidad de `P(X€B)` se evalua calculando\n",
    "las probabilidades del conjunto de valores de las respuestas de `S` tales que `X(S) € B`, es decir `P(X € B) = P({s € S : X(s) € B})`"
   ]
  },
  {
   "cell_type": "code",
   "execution_count": 21,
   "metadata": {},
   "outputs": [
    {
     "data": {
      "text/plain": [
       "(array([  1.,   1.,   0.,   0.,   2.,   1.,   2.,   1.,   2.,   4.,   6.,\n",
       "          9.,   8.,   6.,   8.,  11.,  16.,  10.,  13.,  35.,  28.,  35.,\n",
       "         39.,  40.,  53.,  62.,  45.,  74.,  72.,  76.,  98.,  90., 123.,\n",
       "        135., 141., 149., 160., 184., 209., 210., 210., 219., 232., 258.,\n",
       "        240., 260., 271., 277., 222., 280., 269., 279., 304., 277., 342.,\n",
       "        288., 267., 240., 245., 230., 241., 211., 202., 178., 177., 163.,\n",
       "        148., 148., 126., 108.,  97., 106.,  93.,  84.,  77.,  71.,  55.,\n",
       "         43.,  53.,  42.,  29.,  31.,  24.,  22.,  16.,  12.,   7.,  15.,\n",
       "          8.,  11.,   5.,   9.,   2.,   5.,   2.,   4.,   1.,   0.,   2.,\n",
       "          3.]),\n",
       " array([-3.59189314, -3.52157111, -3.45124907, -3.38092703, -3.31060499,\n",
       "        -3.24028296, -3.16996092, -3.09963888, -3.02931684, -2.9589948 ,\n",
       "        -2.88867277, -2.81835073, -2.74802869, -2.67770665, -2.60738462,\n",
       "        -2.53706258, -2.46674054, -2.3964185 , -2.32609647, -2.25577443,\n",
       "        -2.18545239, -2.11513035, -2.04480831, -1.97448628, -1.90416424,\n",
       "        -1.8338422 , -1.76352016, -1.69319813, -1.62287609, -1.55255405,\n",
       "        -1.48223201, -1.41190997, -1.34158794, -1.2712659 , -1.20094386,\n",
       "        -1.13062182, -1.06029979, -0.98997775, -0.91965571, -0.84933367,\n",
       "        -0.77901164, -0.7086896 , -0.63836756, -0.56804552, -0.49772348,\n",
       "        -0.42740145, -0.35707941, -0.28675737, -0.21643533, -0.1461133 ,\n",
       "        -0.07579126, -0.00546922,  0.06485282,  0.13517486,  0.20549689,\n",
       "         0.27581893,  0.34614097,  0.41646301,  0.48678504,  0.55710708,\n",
       "         0.62742912,  0.69775116,  0.76807319,  0.83839523,  0.90871727,\n",
       "         0.97903931,  1.04936135,  1.11968338,  1.19000542,  1.26032746,\n",
       "         1.3306495 ,  1.40097153,  1.47129357,  1.54161561,  1.61193765,\n",
       "         1.68225969,  1.75258172,  1.82290376,  1.8932258 ,  1.96354784,\n",
       "         2.03386987,  2.10419191,  2.17451395,  2.24483599,  2.31515802,\n",
       "         2.38548006,  2.4558021 ,  2.52612414,  2.59644618,  2.66676821,\n",
       "         2.73709025,  2.80741229,  2.87773433,  2.94805636,  3.0183784 ,\n",
       "         3.08870044,  3.15902248,  3.22934452,  3.29966655,  3.36998859,\n",
       "         3.44031063]),\n",
       " <a list of 100 Patch objects>)"
      ]
     },
     "execution_count": 21,
     "metadata": {},
     "output_type": "execute_result"
    },
    {
     "data": {
      "image/png": "[encoded data removed]",
      "text/plain": [
       "<Figure size 720x144 with 2 Axes>"
      ]
     },
     "metadata": {
      "needs_background": "light"
     },
     "output_type": "display_data"
    }
   ],
   "source": [
    "%matplotlib inline\n",
    "import matplotlib.pyplot as plt\n",
    "# Random variable X (samples from Normal distribution)\n",
    "X = np.random.normal(size=10000)\n",
    "\n",
    "# Check that the distribution is normal\n",
    "plt.figure(figsize=(10,2))\n",
    "plt.subplot(1,2,1)\n",
    "plt.stem(X,use_line_collection=True)\n",
    "plt.subplot(1,2,2)\n",
    "plt.hist(X,bins=100)"
   ]
  },
  {
   "cell_type": "code",
   "execution_count": 8,
   "metadata": {},
   "outputs": [
    {
     "data": {
      "text/plain": [
       "(array([107.,  91., 107., 105., 101.,  98.,  82., 108., 102.,  99.]),\n",
       " array([9.68280561e-05, 1.00018752e-01, 1.99940675e-01, 2.99862599e-01,\n",
       "        3.99784522e-01, 4.99706446e-01, 5.99628369e-01, 6.99550293e-01,\n",
       "        7.99472216e-01, 8.99394140e-01, 9.99316063e-01]),\n",
       " <a list of 10 Patch objects>)"
      ]
     },
     "execution_count": 8,
     "metadata": {},
     "output_type": "execute_result"
    },
    {
     "data": {
      "image/png": "[encoded data removed]",
      "text/plain": [
       "<Figure size 720x144 with 2 Axes>"
      ]
     },
     "metadata": {
      "needs_background": "light"
     },
     "output_type": "display_data"
    }
   ],
   "source": [
    "%matplotlib inline\n",
    "import matplotlib.pyplot as plt\n",
    "# Random variable X (samples from Normal distribution)\n",
    "X = np.random.random(size=1000)\n",
    "\n",
    "# Check that the distribution is normal\n",
    "plt.figure(figsize=(10,2))\n",
    "plt.subplot(1,2,1)\n",
    "plt.stem(X,use_line_collection=True)\n",
    "plt.subplot(1,2,2)\n",
    "plt.hist(X)"
   ]
  },
  {
   "cell_type": "markdown",
   "metadata": {},
   "source": [
    "## Conditional Probability\n",
    "\n",
    "- The conditional probability P(A|B) is the probability of event A given that event B as occurred.\n",
    "  <img src=\"images/prob_conditional_1.png\" style=\"width: 300px; display:inline;\"/>\n",
    "  <img src=\"images/prob_conditional_table.png\" style=\"width: 300px; display:inline;\"/>\n",
    "  <img src=\"images/prob_conditional_formula_2.jpg\" style=\"width: 300px; display:inline;\"/>\n",
    "  <img src=\"images/prob_conditional_formula_1.jpg\" style=\"width: 300px; display:inline;\"/>\n",
    "\n",
    "\n",
    "  - **Conditional Probability visualized** http://setosa.io/conditional/\n",
    "  - **Conditional Probability Explained** https://towardsdatascience.com/conditional-probability-with-a-python-example-fd6f5937cd2"
   ]
  },
  {
   "cell_type": "code",
   "execution_count": null,
   "metadata": {},
   "outputs": [],
   "source": []
  },
  {
   "cell_type": "markdown",
   "metadata": {},
   "source": [
    "## Mutual exclusivity of Events\n",
    "\n",
    "Two events are said to be mutually exclusive if they cannot happen at the same time.\n",
    "\n",
    "For example, if we toss a coin, either heads or tails might turn up, but not heads and tails at the same time.\n",
    "\n",
    "<div style=\"text-align:center;\">\n",
    "<img src=\"images/mutual_exclusive_1.png\" style=\"width: 300px; display:inline;\"/>\n",
    "<img src=\"images/mutual_exclusive_3.jpg\" style=\"width: 300px; display:inline;\"/>\n",
    "<img src=\"images/mutual_exclusive_2.png\" style=\"width: 300px;\"/>\n",
    "</div>\n"
   ]
  },
  {
   "cell_type": "markdown",
   "metadata": {},
   "source": [
    "## Variance and STD Deviation\n",
    "**Variance**: The average of the squared differences from the Mean.\n",
    "  1. Work out the Mean (the simple average of the numbers)\n",
    "  2. Then for each number: subtract the Mean and square the result (the squared difference).\n",
    "  3. Then work out the average of those squared differences.\n",
    "\n",
    "**Standard Deviation:** Is the squared root of the variance. The Standard Deviation\n",
    "    is a measure of how spread out numbers are. \n",
    "    Its symbol is σ. it is the square root of the **Variance**.\n",
    "    \n",
    "More: [https://www.mathsisfun.com/data/standard-deviation.html]"
   ]
  },
  {
   "cell_type": "code",
   "execution_count": 12,
   "metadata": {},
   "outputs": [
    {
     "name": "stdout",
     "output_type": "stream",
     "text": [
      "0.5005226141891432\n",
      "Variance:0.084 Standard Deviation:0.289 \n"
     ]
    }
   ],
   "source": [
    "X = np.random.random(100000)\n",
    "print(X.mean())\n",
    "var = np.round(X.var(),decimals=3)\n",
    "std = np.round(X.std(),decimals=3)\n",
    "\n",
    "print(f\"Variance:{var} Standard Deviation:{std} \")\n"
   ]
  },
  {
   "cell_type": "code",
   "execution_count": null,
   "metadata": {},
   "outputs": [],
   "source": []
  }
 ],
 "metadata": {
  "kernelspec": {
   "display_name": "Python 3",
   "language": "python",
   "name": "python3"
  },
  "language_info": {
   "codemirror_mode": {
    "name": "ipython",
    "version": 3
   },
   "file_extension": ".py",
   "mimetype": "text/x-python",
   "name": "python",
   "nbconvert_exporter": "python",
   "pygments_lexer": "ipython3",
   "version": "3.7.5"
  }
 },
 "nbformat": 4,
 "nbformat_minor": 2
}
