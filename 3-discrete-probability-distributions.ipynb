{
 "cells": [
  {
   "cell_type": "code",
   "execution_count": null,
   "metadata": {},
   "outputs": [],
   "source": [
    "## Distribuciones discretas\n",
    "\n",
    "- **Discrete Distribution**: La probabilidad total asociada a una variable aleatoria `X` puede obtenerse a partir de la probabilidad de que `X` sea igual a **ciertos valores concretos**.\n",
    "  Una variable aleatoria es discreta si `sumatorio(x€R) de P(X=x) = 1`\n",
    "\n",
    "### Principales distribuciones discretas\n",
    "\n",
    "- **Bernoulli**: Bernoulli(⍬), lanzar una moneda con probabilidad `⍬` de que salga cara\n",
    "  y `1-⍬` que salga cruz, siendo `0<⍬<1`, ejemplo `X=1` si sale cara y `X=0` si sale cruz.\n",
    "  Las distribuciones de bernoulli se presentan cada vez que tenemos una variable respuesta que solo puede tomar dos valores.\n",
    "\n",
    "  - **Ejemplos**: Prueba en cadena de producción, seleccionar una persona al azar y ver si es hombre o mujer, etc.\n",
    "\n",
    "- **Binomial**: Binomial(n,⍬) (Binomial(1,⍬)=Bernoulli(⍬)) Lanzar `n` monendas al aire, cada una de las cuales tiene una probabilidad (independiente) ⍬ de que salga cara y 1-⍬ que salga cruz.\n",
    "\n",
    "  - `P(X=x) = factorial(n)/factorial(n)*factorial(n-x)`.\n",
    "    La distribución binomial es aplicable en aquellas situaciones que implican `n` ensayos independientes de un sistema aleatorio. Para cada ensayo registramos `exito` o `fracaso`.\n",
    "    El numero de éxitos en `n` ensayos seguiría la distribución de binomial.\n",
    "  - **Ejemplo**: Un jugador de beisbol tiene una probabilidad `⍬` de conseguir un bateo en `n` intentos.\n",
    "  - https://docs.scipy.org/doc/scipy/reference/generated/scipy.stats.binom.html\n",
    "\n",
    "- **Geométrica**: Consideremos el caso de lanzar repetidas veces una moneda (`⍬` de que salga cara y `1-⍬` que salga cruz). Sea `X` el numero de cruces que aparece antes de que salga cara.\n",
    "  - Cuenta el numero de fallos hasta que se produce un éxito:\n",
    "  - **Ejemplo**: Si fabricamos bombillas, el numoero de bombillas que funcionan hasta que sale la primera defectuosa\n",
    "  - https://docs.scipy.org/doc/scipy/reference/generated/scipy.stats.geom.html\n"
   ]
  }
 ],
 "metadata": {
  "kernelspec": {
   "display_name": "Python 3",
   "language": "python",
   "name": "python3"
  },
  "language_info": {
   "codemirror_mode": {
    "name": "ipython",
    "version": 3
   },
   "file_extension": ".py",
   "mimetype": "text/x-python",
   "name": "python",
   "nbconvert_exporter": "python",
   "pygments_lexer": "ipython3",
   "version": "3.7.5"
  }
 },
 "nbformat": 4,
 "nbformat_minor": 2
}
