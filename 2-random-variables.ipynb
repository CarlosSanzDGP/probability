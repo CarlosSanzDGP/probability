{
 "cells": [
  {
   "cell_type": "markdown",
   "metadata": {},
   "source": [
    "# Variables aleatorias\n",
    "\n",
    "Una **variable aleatoria** es una función definida sobre el espacio muestral `S` que asigna valores\n",
    "del conjunto **$\\mathbb{R}$** de los numeros reales.\n",
    "Intuitivamente, asigna un valor numerico a cada posible resultado del espacio muestral.\n",
    "\n",
    "\n",
    "- **Variable aleatoria:** Es aquella cuyo valor es el resultado de un evento aleatorio. Lo que quiere decir que son los resultados que se presentan al azar en cualquier evento o experimento.\n",
    "    - **Variable aleatoria discreta:** Es aquella que solo toma ciertos valores (frecuentemente enteros) y que resulta principalmente del conteo realizado.\n",
    "    - **Variable aleatoria continua:** Es aquella que resulta generalmente de la medición y puede tomar cualquier valor dentro de un intervalo dado.1​\n",
    "\n",
    "### Ejemplo variable aleatoria discreta:\n",
    "Si el espacio muestral es `{llueve, nieva, despejado}`.\n",
    "\n",
    "Podemos definir una variable aleatoria discreta `X` tal que `X=3` si llueve `X=6` si nieva y `X=-2.7` si esta despejado.\n",
    "\n",
    "- `P(X=3)=P(lluvia)=0.4`\n",
    "- `P(X=6)=P(nieve)=0.15`\n",
    "- `P(X=-2.7)=P(despejado)=0.45`\n",
    "\n",
    "También podemos calcular `P(X € {3,6}) = P(X=3) + P(X=6) = 0.4+0.15 = 0.55`\n",
    "\n",
    "**La distribución** de la variable aleatoria `X` es el conjunto de probabilidades `P(X€B)` para todo subconjunto `B` de numeros reales. La probabolidad de `P(X€B)` se evalua calculando\n",
    "las probabilidades del conjunto de valores de las respuestas de `S` tales que `X(S) € B`, es decir `P(X € B) = P({s € S : X(s) € B})`\n"
   ]
  },
  {
   "cell_type": "code",
   "execution_count": null,
   "metadata": {},
   "outputs": [],
   "source": []
  },
  {
   "cell_type": "markdown",
   "metadata": {},
   "source": [
    "## Función de probabilidad (Probability mass function) - Variables aleatorias discretas\n",
    "\n",
    "una función de probabilidad (también denominada función de masa de probabilidad) asociada a una **variable aleatoria discreta** es una función que asocia a cada punto de su espacio muestral X la probabilidad de que esta lo asuma.\n",
    "\n",
    "<img src=\"images/pdf-defin-nls.png\">\n",
    "\n"
   ]
  },
  {
   "cell_type": "markdown",
   "metadata": {},
   "source": [
    "## Función de densidad de probabilidad (Probability density function)\n",
    "\n",
    "Asociada a una **variable aleatoria continua** describe la probabilidad relativa según la cual dicha variable aleatoria tomará determinado valor.\n",
    "La probabilidad de que la variable aleatoria caiga en una región específica del espacio de posibilidades estará dada por la integral de la densidad de esta variable entre uno y otro límite de dicha región.\n",
    "\n",
    "<img src=\"images/525px-Boxplot_vs_PDF.svg.png\" width=\"400\"/>"
   ]
  },
  {
   "cell_type": "markdown",
   "metadata": {},
   "source": [
    "## Función de distribución (Cumulative distribution function)\n",
    "\n",
    "La función distribución puede obtenerse a partir de la función de probabilidad respectiva. La FDA en el caso de una variable aleatoria X discreta, puede establecerse como:\n",
    "\n",
    "- https://es.wikipedia.org/wiki/Funci%C3%B3n_de_distribuci%C3%B3n\n",
    "\n",
    "\n",
    "La función distribución puede obtenerse a partir de la función de probabilidad respectiva. La FDA en el caso de una **variable aleatoria X discreta**, puede establecerse como:\n",
    "\n",
    "$$ F(x)=\\sum _{{x_{i}\\leq x}}^{{}}f(x_{i}) $$\n",
    "\n",
    "Para una **variable aleatoria X continua**, la FDA y la FDP están relacionadas mediante:\n",
    "\n",
    "$$ F(x)=\\int _{{-\\infty }}^{{x}}f(t)\\,dt $$\n",
    "\n",
    "<img src=\"images/1280px-Normal_Distribution_CDF.svg.png\" width=\"400\"/>\n"
   ]
  },
  {
   "cell_type": "markdown",
   "metadata": {},
   "source": [
    "## Probabilidad y estadística usando Scipy\n",
    "\n",
    "En scipy todas las distribuciones tienen la función `cdf`"
   ]
  },
  {
   "cell_type": "code",
   "execution_count": 10,
   "metadata": {},
   "outputs": [
    {
     "name": "stderr",
     "output_type": "stream",
     "text": [
      "/usr/local/lib/python3.7/site-packages/ipykernel_launcher.py:11: UserWarning: In Matplotlib 3.3 individual lines on a stem plot will be added as a LineCollection instead of individual lines. This significantly improves the performance of a stem plot. To remove this warning and switch to the new behaviour, set the \"use_line_collection\" keyword argument to True.\n",
      "  # This is added back by InteractiveShellApp.init_path()\n"
     ]
    },
    {
     "name": "stdout",
     "output_type": "stream",
     "text": [
      "0.3333333333333333\n"
     ]
    },
    {
     "data": {
      "image/png": "[encoded data removed]",
      "text/plain": [
       "<Figure size 432x288 with 1 Axes>"
      ]
     },
     "metadata": {
      "needs_background": "light"
     },
     "output_type": "display_data"
    }
   ],
   "source": [
    "%matplotlib inline\n",
    "import matplotlib.pyplot as plt\n",
    "import numpy as np\n",
    "\n",
    "from scipy.stats import uniform\n",
    "\n",
    "## En una distribución uniforme X, probabilidad de que el experimento tenga un valor menor o igual a x.\n",
    "## Ejemplo: en un dado equilibrado de 6 caras, probabilidad que salga un numero menor o igual a 2\n",
    "x = 2/6\n",
    "\n",
    "plt.stem(range(1,7),[1/6]*6)\n",
    "\n",
    "print(uniform.cdf(x, loc=0))"
   ]
  },
  {
   "cell_type": "code",
   "execution_count": 9,
   "metadata": {},
   "outputs": [
    {
     "name": "stdout",
     "output_type": "stream",
     "text": [
      "[-1.         -0.96969697 -0.93939394 -0.90909091 -0.87878788 -0.84848485\n",
      " -0.81818182 -0.78787879 -0.75757576 -0.72727273 -0.6969697  -0.66666667\n",
      " -0.63636364 -0.60606061 -0.57575758 -0.54545455 -0.51515152 -0.48484848\n",
      " -0.45454545 -0.42424242 -0.39393939 -0.36363636 -0.33333333 -0.3030303\n",
      " -0.27272727 -0.24242424 -0.21212121 -0.18181818 -0.15151515 -0.12121212\n",
      " -0.09090909 -0.06060606 -0.03030303  0.          0.03030303  0.06060606\n",
      "  0.09090909  0.12121212  0.15151515  0.18181818  0.21212121  0.24242424\n",
      "  0.27272727  0.3030303   0.33333333  0.36363636  0.39393939  0.42424242\n",
      "  0.45454545  0.48484848  0.51515152  0.54545455  0.57575758  0.60606061\n",
      "  0.63636364  0.66666667  0.6969697   0.72727273  0.75757576  0.78787879\n",
      "  0.81818182  0.84848485  0.87878788  0.90909091  0.93939394  0.96969697\n",
      "  1.          1.03030303  1.06060606  1.09090909  1.12121212  1.15151515\n",
      "  1.18181818  1.21212121  1.24242424  1.27272727  1.3030303   1.33333333\n",
      "  1.36363636  1.39393939  1.42424242  1.45454545  1.48484848  1.51515152\n",
      "  1.54545455  1.57575758  1.60606061  1.63636364  1.66666667  1.6969697\n",
      "  1.72727273  1.75757576  1.78787879  1.81818182  1.84848485  1.87878788\n",
      "  1.90909091  1.93939394  1.96969697  2.        ]\n"
     ]
    },
    {
     "data": {
      "text/plain": [
       "[<matplotlib.lines.Line2D at 0x119477f50>]"
      ]
     },
     "execution_count": 9,
     "metadata": {},
     "output_type": "execute_result"
    },
    {
     "data": {
      "image/png": "[encoded data removed]",
      "text/plain": [
       "<Figure size 432x288 with 1 Axes>"
      ]
     },
     "metadata": {
      "needs_background": "light"
     },
     "output_type": "display_data"
    }
   ],
   "source": [
    "\n",
    "v = np.linspace(-1,2,100)\n",
    "X = uniform.cdf(v)\n",
    "plt.title(\"CDF (cummulative distribution function) variable X con distribución uniforme\")\n",
    "plt.plot(v,X)"
   ]
  },
  {
   "cell_type": "code",
   "execution_count": null,
   "metadata": {},
   "outputs": [],
   "source": []
  },
  {
   "cell_type": "code",
   "execution_count": null,
   "metadata": {},
   "outputs": [],
   "source": []
  },
  {
   "cell_type": "markdown",
   "metadata": {},
   "source": [
    "## Variable Aleatoria sampleada de una distribución normal"
   ]
  },
  {
   "cell_type": "code",
   "execution_count": 4,
   "metadata": {},
   "outputs": [],
   "source": [
    "%matplotlib inline\n",
    "import numpy as np\n",
    "import matplotlib.pyplot as plt\n",
    "import seaborn as sns"
   ]
  },
  {
   "cell_type": "code",
   "execution_count": 40,
   "metadata": {},
   "outputs": [
    {
     "name": "stdout",
     "output_type": "stream",
     "text": [
      "-8.135177526138548 8.818842053577358\n",
      "4\n"
     ]
    },
    {
     "data": {
      "image/png": "[encoded data removed]",
      "text/plain": [
       "<Figure size 720x144 with 2 Axes>"
      ]
     },
     "metadata": {
      "needs_background": "light"
     },
     "output_type": "display_data"
    }
   ],
   "source": [
    "# Random variable X (samples from Normal distribution)\n",
    "X = np.random.normal(size=100000, scale=2)\n",
    "print(X.min(),X.max())\n",
    "print((X > 8).sum())\n",
    "# Check that the distribution is normal\n",
    "plt.figure(figsize=(10,2))\n",
    "plt.subplot(1,2,1)\n",
    "plt.stem(X,use_line_collection=True)\n",
    "plt.subplot(1,2,2)\n",
    "plt.hist(X,bins=100)\n",
    "plt.show()"
   ]
  },
  {
   "cell_type": "markdown",
   "metadata": {},
   "source": [
    "## Variable Aleatoria sampleada de una distribución uniforme"
   ]
  },
  {
   "cell_type": "code",
   "execution_count": 8,
   "metadata": {},
   "outputs": [
    {
     "data": {
      "image/png": "[encoded data removed]",
      "text/plain": [
       "<Figure size 720x144 with 2 Axes>"
      ]
     },
     "metadata": {
      "needs_background": "light"
     },
     "output_type": "display_data"
    }
   ],
   "source": [
    "# Random variable X (samples from Normal distribution)\n",
    "X = np.random.random(size=10000)\n",
    "\n",
    "# Check that the distribution is normal\n",
    "plt.figure(figsize=(10,2))\n",
    "plt.subplot(1,2,1)\n",
    "plt.stem(X,use_line_collection=True)\n",
    "plt.subplot(1,2,2)\n",
    "plt.hist(X)\n",
    "plt.show()"
   ]
  },
  {
   "cell_type": "code",
   "execution_count": null,
   "metadata": {},
   "outputs": [],
   "source": []
  },
  {
   "cell_type": "markdown",
   "metadata": {},
   "source": [
    "## Esperanza (valor esperado)\n",
    "\n",
    "En estadística la esperanza matemática (también llamada esperanza, valor esperado, media poblacional o media) de una variable aleatoria $X$, es el número $\\mathbb{E}[X]$ o $\\text{E}[X]$ que formaliza la idea de valor medio de un fenómeno aleatorio.\n",
    "\n",
    "Por ejemplo, el valor esperado cuando tiramos un dado equilibrado de 6 caras es 3,5. Podemos hacer el cálculo\n",
    "\n",
    "$$ {\\displaystyle {\\begin{aligned}\\mathbb {E} (X)=1\\cdot {\\frac {1}{6}}+2\\cdot {\\frac {1}{6}}+3\\cdot {\\frac {1}{6}}+4\\cdot {\\frac {1}{6}}+5\\cdot {\\frac {1}{6}}+6\\cdot {\\frac {1}{6}}\\\\[6pt]={\\frac {1+2+3+4+5+6}{6}}=3,5\\end{aligned}}} $$\n",
    "\n",
    "En este caso, en el que todos los sucesos son de igual probabilidad, la esperanza es igual a la media aritmética.\n",
    "\n",
    "### Definición\n",
    "\n",
    "Para una **variable aleatoria discreta** con valores posibles $x_{1},x_{2}\\ldots x_{n}$ y sus probabilidades representadas por la función de probabilidad $p(x_{i})$ la esperanza se calcula como ejemplo:\n",
    "\n",
    "$$ {\\displaystyle \\mathbb {E} [X]=x_{1}p(X=x_{1})+...+x_{n}p(X=x_{n})=\\sum _{i=1}^{n}x_{i}p(x_{i})\\,\\!} $$\n",
    "\n",
    "\n",
    "Para una **variable aleatoria continua**, la esperanza se calcula mediante la integral de todos los valores y la función de densidad $f(x)$:\n",
    "\n",
    "$$ {\\displaystyle \\mathbb {E} [X]=\\int _{-\\infty }^{\\infty }xf(x)dx\\,\\!} $$\n",
    "\n"
   ]
  },
  {
   "cell_type": "markdown",
   "metadata": {},
   "source": [
    "# Distribuciones de variables aleatorias discretas\n",
    "\n",
    "## Uniforme"
   ]
  },
  {
   "cell_type": "code",
   "execution_count": 20,
   "metadata": {},
   "outputs": [
    {
     "name": "stdout",
     "output_type": "stream",
     "text": [
      "(10000,) 1.9998584595588809 0.00024940661474315284\n"
     ]
    },
    {
     "data": {
      "image/png": "[encoded data removed]",
      "text/plain": [
       "<Figure size 432x288 with 1 Axes>"
      ]
     },
     "metadata": {
      "needs_background": "light"
     },
     "output_type": "display_data"
    }
   ],
   "source": [
    "from scipy.stats import uniform\n",
    "\n",
    "# random numbers from uniform distribution\n",
    "n = 10000\n",
    "data_uniform = uniform.rvs(size=n, scale=2)\n",
    "\n",
    "print(data_uniform.shape, data_uniform.max(), data_uniform.min())\n",
    "#print(data_uniform)\n",
    "plt.hist(data_uniform)\n",
    "plt.show()"
   ]
  },
  {
   "cell_type": "markdown",
   "metadata": {},
   "source": [
    "\n",
    "## Bernoulli\n",
    "\n",
    "Las distribuciones de bernoulli se presentan cada vez que tenemos una variable respuesta que solo puede tomar dos valores.\n",
    "\n",
    "Es la función discreta de probabilidad de una variable aleatoria que toma el valor `1` con probabilidad `p` y el valor `0` con probabilidad `1-p`\n",
    "\n",
    "### Ejemplo: Bernoulli con experimento de moneda lanzada al aire\n",
    "`Bernoulli(⍬)`, lanzar una moneda con probabilidad `⍬` de que salga cara y `1-⍬` que salga cruz, siendo `0<⍬<1`, ejemplo `X=1` si sale cara y `X=0` si sale cruz."
   ]
  },
  {
   "cell_type": "code",
   "execution_count": 24,
   "metadata": {},
   "outputs": [
    {
     "name": "stdout",
     "output_type": "stream",
     "text": [
      "[0 1 1 1 1 0 1 1 1 1]\n"
     ]
    },
    {
     "data": {
      "image/png": "[encoded data removed]",
      "text/plain": [
       "<Figure size 432x288 with 1 Axes>"
      ]
     },
     "metadata": {
      "needs_background": "light"
     },
     "output_type": "display_data"
    }
   ],
   "source": [
    "import seaborn as sns\n",
    "from scipy.stats import bernoulli\n",
    "data_bern = bernoulli.rvs(size=10000,p=0.6)\n",
    "print(data_bern[:10])\n",
    "ax= sns.distplot(data_bern,\n",
    "                 kde=False,\n",
    "                 color=\"skyblue\",\n",
    "                 hist_kws={\"linewidth\": 15,'alpha':1})\n",
    "ax.set(xlabel='Bernoulli Distribution', ylabel='Frequency')\n",
    "plt.show()"
   ]
  },
  {
   "cell_type": "markdown",
   "metadata": {},
   "source": [
    "## Binomial\n",
    "`Binomial(n,⍬)`\n",
    "\n",
    "Cuando `n=1` sucede que `Binomial(1,⍬) = Bernoulli(⍬)`\n",
    "\n",
    "Lanzar `n` monendas al aire, cada una de las cuales tiene una probabilidad (independiente) ⍬ de que salga cara y 1-⍬ que salga cruz.\n",
    "\n",
    "- La distribución binomial es aplicable en aquellas situaciones que implican `n` ensayos independientes de un sistema aleatorio. Para cada ensayo registramos `exito` o `fracaso`. El numero de éxitos en `n` ensayos seguiría la distribución de binomial.\n",
    "\n",
    "Su función de probabilidad es \n",
    "\n",
    "$${\\displaystyle \\!f(x)={n \\choose x}p^{x}(1-p)^{n-x},\\,\\,\\,\\,0\\leq p\\leq 1}$$\n",
    "donde \n",
    "$${\\displaystyle x=\\{0,1,2,\\dots ,n\\},}$$\n",
    "siendo \n",
    "$${\\displaystyle \\!{n \\choose x}={\\frac {n!}{x!(n-x)!}}\\,\\!}$$\n",
    "las combinaciones de $n$ sobre $x$ ($n$ elementos tomados de $x$ en $x$)\n",
    "\n",
    "\n",
    "### Ejemplo\n",
    "Un jugador de beisbol tiene una probabilidad `⍬` de conseguir un bateo en `n` intentos.\n",
    "\n",
    "\n",
    "- https://docs.scipy.org/doc/scipy/reference/generated/scipy.stats.binom.html\n"
   ]
  },
  {
   "cell_type": "code",
   "execution_count": 31,
   "metadata": {},
   "outputs": [
    {
     "name": "stdout",
     "output_type": "stream",
     "text": [
      "[3 1 7 3 2 4 4 6 3 6 6 0 6 5 2 4 3 3 1 4 3 4 4 6 3 3 6 2 5 4 3 7 0 3 4 5 8\n",
      " 4 8 5 5 3 0 4 4 9 2 6 3 3 2 3 8 5 2 2 3 3 4 3 6 6 5 3 4 3 6 0 6 3 4 5 4 2\n",
      " 1 4 4 4 7 2 4 6 6 6 6 3 8 2 3 7 3 3 3 6 7 6 4 3 6 4] 10000\n"
     ]
    },
    {
     "data": {
      "text/plain": [
       "[Text(0, 0.5, 'Frequency'), Text(0.5, 0, 'Binomial Distribution')]"
      ]
     },
     "execution_count": 31,
     "metadata": {},
     "output_type": "execute_result"
    },
    {
     "data": {
      "image/png": "[encoded data removed]",
      "text/plain": [
       "<Figure size 432x288 with 1 Axes>"
      ]
     },
     "metadata": {
      "needs_background": "light"
     },
     "output_type": "display_data"
    }
   ],
   "source": [
    "from scipy.stats import binom\n",
    "data_binom = binom.rvs(n=20,p=0.20,size=10000)\n",
    "print(data_binom[:100],len(data_binom))\n",
    "ax = sns.distplot(data_binom,\n",
    "                  kde=False,\n",
    "                  color='skyblue',\n",
    "                  hist_kws={\"linewidth\": 15,'alpha':1})\n",
    "ax.set(xlabel='Binomial Distribution', ylabel='Frequency')"
   ]
  },
  {
   "cell_type": "markdown",
   "metadata": {},
   "source": [
    "## Geométrica\n",
    "Consideremos el caso de lanzar repetidas veces una moneda (`⍬` de que salga cara y `1-⍬` que salga cruz). Sea `X` el numero de cruces que aparece antes de que salga cara.\n",
    "- Cuenta el numero de fallos hasta que se produce un éxito\n",
    "\n",
    "### **Ejemplo**: \n",
    "Si fabricamos bombillas, el numoero de bombillas que funcionan hasta que sale la primera defectuosa sigue una distribución geométrica\n",
    "\n",
    "\n",
    "- https://docs.scipy.org/doc/scipy/reference/generated/scipy.stats.geom.html"
   ]
  },
  {
   "cell_type": "code",
   "execution_count": 22,
   "metadata": {},
   "outputs": [
    {
     "data": {
      "text/plain": [
       "[Text(0, 0.5, 'Frequency'), Text(0.5, 0, 'Geometric Distribution')]"
      ]
     },
     "execution_count": 22,
     "metadata": {},
     "output_type": "execute_result"
    },
    {
     "data": {
      "image/png": "[encoded data removed]",
      "text/plain": [
       "<Figure size 432x288 with 1 Axes>"
      ]
     },
     "metadata": {
      "needs_background": "light"
     },
     "output_type": "display_data"
    }
   ],
   "source": [
    "from scipy.stats import geom\n",
    "data_geom = geom.rvs(p=0.5,size=10000)\n",
    "\n",
    "ax = sns.distplot(data_geom,\n",
    "                  kde=False,\n",
    "                  color='skyblue',\n",
    "                  hist_kws={\"linewidth\": 15,'alpha':1})\n",
    "ax.set(xlabel='Geometric Distribution', ylabel='Frequency')"
   ]
  },
  {
   "cell_type": "code",
   "execution_count": null,
   "metadata": {},
   "outputs": [],
   "source": []
  },
  {
   "cell_type": "markdown",
   "metadata": {},
   "source": [
    "# Variables aleatorias contínuas\n",
    "\n",
    "- `P(X=x) = 0` para un punto concreto. Lo que suma 1 es la integral sobre todo `R`.\n",
    "- Solo podemos calcular la probabilidad de `P(a <= X <= b)` usando la integral en ese rango. Para ello usamos la **función de densidad**\n",
    "\n",
    "\n",
    "## Distribución uniforme: `[0,1]` o `[L,R]`.\n",
    "\n",
    "Su función de densidad de probabilidad es:\n",
    "\n",
    "$$\n",
    "  f(x)=\\left\\{\\begin{matrix}\n",
    "  \\frac{1}{b - a} & \\ \\ \\ \\mathrm{para}\\ a \\le x \\le b, \\\\  \\\\\n",
    "  0 & \\mathrm{para}\\ x<a\\ \\mathrm{o}\\ x>b, \\end{matrix}\\right.\n",
    "$$\n",
    "\n",
    "<img src=\"https://upload.wikimedia.org/wikipedia/commons/thumb/9/9c/Uniform_distribution_PDF.png/525px-Uniform_distribution_PDF.png\" width=\"300\"/>\n",
    "\n",
    "- Destacar que tiene el mismo valor de probabilidad para todos los intervalos\n",
    "- https://docs.scipy.org/doc/scipy/reference/generated/scipy.stats.uniform.html\n",
    "\n",
    "### Ejemplo\n",
    "You show up at a bus stop to wait for a bus that comes by once per hour. You do not know what time the bus came by last. The arrival time of the next bus is a continuous uniform distribution [0,1] measured in hours.\n"
   ]
  },
  {
   "cell_type": "markdown",
   "metadata": {},
   "source": [
    "## Distribución Gamma\n",
    "\n",
    "En estadística la distribución gamma es una distribución de probabilidad continua con dos parámetros $k>0$ y $\\lambda > 0$ reales cuya función de densidad para valores $x>0$ es:\n",
    "$${\\displaystyle f(x)=\\lambda e^{-\\lambda x}{\\frac {(\\lambda x)^{k-1}}{\\Gamma (k)}}}$$\n",
    "\n",
    "Se puede usar también para modelar tiempos de vida ya que ofrece una familia de funciones con variedad de perfiles\n",
    "\n",
    "\n",
    "<img src=\"https://upload.wikimedia.org/wikipedia/commons/thumb/f/fc/Gamma_distribution_pdf.png/330px-Gamma_distribution_pdf.png\" witdh=\"300\"/>\n",
    "\n",
    "- https://es.wikipedia.org/wiki/Distribuci%C3%B3n_gamma"
   ]
  },
  {
   "cell_type": "markdown",
   "metadata": {},
   "source": [
    "## Distribución exponencial\n",
    "\n",
    "- `f(x)= e^(-x)` si `x>0` sino es `0`\n",
    "- **Ejemplo** Se puede usar también para modelar tiempos de vida. Por ejemplo para calcular el tiempo de vida de una bombilla producida. Notse que el tiempo puede ser un valor en todo `R`.\n",
    "- [https://docs.scipy.org/doc/scipy/reference/generated/scipy.stats.expon.html]\n"
   ]
  },
  {
   "cell_type": "markdown",
   "metadata": {},
   "source": [
    "\n",
    "### Distribución Normal\n",
    "\n",
    "En estadística y probabilidad se llama distribución normal, distribución de Gauss, distribución gaussiana o distribución de Laplace-Gauss, a una de las distribuciones de probabilidad de variable continua que **con más frecuencia aparece** en estadística y en la teoría de probabilidades\n",
    "\n",
    "La **función de distribución** de la distribución normal está definida como sigue:\n",
    "\n",
    "$$\n",
    "{\\displaystyle {\\begin{aligned}\\Phi _{\\mu ,\\sigma ^{2}}(x)&{}=\\int _{-\\infty }^{x}\\varphi _{\\mu ,\\sigma ^{2}}(u)\\,du\\\\&{}={\\frac {1}{\\sigma {\\sqrt {2\\pi }}}}\\int _{-\\infty }^{x}e^{-{\\frac {(u-\\mu )^{2}}{2\\sigma ^{2}}}}\\,du,\\quad x\\in \\mathbb {R} .\\\\\\end{aligned}}}\n",
    "$$\n",
    "\n",
    "donde:\n",
    "\n",
    "- $\\mu$ es la media (también puede ser la mediana, la moda o el valor esperado, según aplique)\n",
    "- $\\sigma$ es la desviación típica [estándar es un anglicismo]\n",
    "- $\\sigma^2$ es la varianza\n",
    "- $\\varphi$ epresenta la función de densidad de probabilidad\n",
    "\n",
    "<img src=\"https://upload.wikimedia.org/wikipedia/commons/thumb/1/1b/Normal_distribution_pdf.png/488px-Normal_distribution_pdf.png\" width=\"300\"/>\n",
    "\n",
    "\n",
    "### Propiedades de la distribución normal\n",
    "\n",
    "- Es simétrica respecto de su media, $\\mu$;\n",
    "- Distribución de probabilidad alrededor de la media en una distribución `N(μ, σ2)`.\n",
    "- La moda y la mediana son ambas iguales a la media, $\\mu$\n",
    "- Distribución de probabilidad en un entorno de la media:\n",
    "    1. en el intervalo $[\\mu -\\sigma ,\\mu +\\sigma ]$ $[\\mu -\\sigma ,\\mu +\\sigma ]$ se encuentra comprendida, aproximadamente, el `68,26%` de la distribución\n",
    "    2. en el intervalo $[\\mu -2\\sigma ,\\mu +2\\sigma ]$ $[\\mu -2\\sigma ,\\mu +2\\sigma ]$ se encuentra, aproximadamente, el `95,44%` de la distribución;\n",
    "    3. por su parte, en el intervalo $[\\mu -3\\sigma ,\\mu +3\\sigma ]$ $[\\mu -3\\sigma ,\\mu +3\\sigma ]$ se encuentra comprendida, aproximadamente, el `99,74%` de la distribución. Estas propiedades son de gran utilidad para el establecimiento de intervalos de confianza. Por otra parte, el hecho de que prácticamente la totalidad de la distribución se encuentre a tres desviaciones típicas de la media justifica los límites de las tablas empleadas habitualmente en la normal estándar.\n",
    "\n",
    "<img src=\"https://upload.wikimedia.org/wikipedia/commons/thumb/3/3a/Standard_deviation_diagram_micro.svg/488px-Standard_deviation_diagram_micro.svg.png\" width=\"500\"/>\n",
    "\n",
    "\n",
    "### Estandarización de variables aleatorias normales\n",
    "Como consecuencia de la Propiedad 1; es posible relacionar todas las variables aleatorias normales con la distribución normal estándar.\n",
    "La transformación de una distribución `X ~ N(μ, σ)` en una `N(0, 1)` se llama normalización, estandarización o tipificación de la variable X.\n",
    "\n",
    "- https://es.wikipedia.org/wiki/Distribuci%C3%B3n_normal\n",
    "- https://docs.scipy.org/doc/scipy/reference/generated/scipy.stats.norm.html"
   ]
  },
  {
   "cell_type": "code",
   "execution_count": 25,
   "metadata": {},
   "outputs": [
    {
     "data": {
      "text/plain": [
       "[Text(0, 0.5, 'Frequency'), Text(0.5, 0, 'Normal Distribution')]"
      ]
     },
     "execution_count": 25,
     "metadata": {},
     "output_type": "execute_result"
    },
    {
     "data": {
      "image/png": "[encoded data removed]",
      "text/plain": [
       "<Figure size 432x288 with 1 Axes>"
      ]
     },
     "metadata": {
      "needs_background": "light"
     },
     "output_type": "display_data"
    }
   ],
   "source": [
    "from scipy.stats import norm\n",
    "# generate random numbers from N(0,1)\n",
    "data_normal = norm.rvs(size=10000,loc=0,scale=1)\n",
    "\n",
    "ax = sns.distplot(data_normal,\n",
    "                  bins=100,\n",
    "                  kde=True,\n",
    "                  color='skyblue',\n",
    "                  hist_kws={\"linewidth\": 15,'alpha':1})\n",
    "ax.set(xlabel='Normal Distribution', ylabel='Frequency')"
   ]
  },
  {
   "cell_type": "code",
   "execution_count": null,
   "metadata": {},
   "outputs": [],
   "source": []
  },
  {
   "cell_type": "markdown",
   "metadata": {},
   "source": [
    "## Ejercicio\n",
    "\n",
    "En la fabricación de petróleo, la temperatura de destilación `T` (en grados centígrados), es crucial para determinar la calidad del producto final. Supongamos que `T` se considera como una variable aleatoria distribuida uniformemente en `(150,300)`.\n",
    "\n",
    "Supongamos que cuesta $C_1$ euros producir un litro de petróleo. Si el aceite destila a una temperatura menor que 200ºC, el producto se vende como nafta y se vende a $C_2$ euros por litro. Si se destila a una temperatura mayor de 200ºC, se conoce como aceite destilado refinado y se vende a $C_3$ euros por litro. \n",
    "\n",
    "Encontrar la utilidad neta esperada (por litro)\n",
    " \n",
    "### Solución\n",
    "- $\\frac{1}{3}(2C_3 + C_2 - 3C_1)$\n"
   ]
  },
  {
   "cell_type": "code",
   "execution_count": null,
   "metadata": {},
   "outputs": [],
   "source": []
  },
  {
   "cell_type": "code",
   "execution_count": null,
   "metadata": {},
   "outputs": [],
   "source": []
  },
  {
   "cell_type": "code",
   "execution_count": null,
   "metadata": {},
   "outputs": [],
   "source": []
  },
  {
   "cell_type": "markdown",
   "metadata": {},
   "source": [
    "## Reference\n",
    "- https://www.amazon.com/Probabilidad-y-Aplicaciones-Estadisticas/dp/9686630279\n",
    "- https://matemovil.com/regla-de-la-multiplicacion-o-producto-de-probabilidades/\n",
    "- https://es.wikipedia.org/wiki/Probabilidad_condicionada\n",
    "- http://www.stat.yale.edu/Courses/1997-98/101/ranvar.html\n",
    "- https://www.analyticsvidhya.com/blog/2017/09/6-probability-distributions-data-science/\n",
    "- https://www.datacamp.com/community/tutorials/probability-distributions-python#comments"
   ]
  },
  {
   "cell_type": "code",
   "execution_count": null,
   "metadata": {},
   "outputs": [],
   "source": []
  }
 ],
 "metadata": {
  "kernelspec": {
   "display_name": "Python 3",
   "language": "python",
   "name": "python3"
  },
  "language_info": {
   "codemirror_mode": {
    "name": "ipython",
    "version": 3
   },
   "file_extension": ".py",
   "mimetype": "text/x-python",
   "name": "python",
   "nbconvert_exporter": "python",
   "pygments_lexer": "ipython3",
   "version": "3.7.5"
  }
 },
 "nbformat": 4,
 "nbformat_minor": 2
}
