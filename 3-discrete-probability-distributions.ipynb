{
 "cells": [
  {
   "cell_type": "code",
   "execution_count": 11,
   "metadata": {},
   "outputs": [],
   "source": [
    "%matplotlib inline\n",
    "import matplotlib.pyplot as plt\n",
    "import seaborn as sns"
   ]
  },
  {
   "cell_type": "markdown",
   "metadata": {},
   "source": [
    "## Función de distribución (Cumulative distribution function)\n",
    "\n",
    "Función de probabilidad acumulada asociada a una variable aleatoria real: `X`sujeta a cierta ley de distribución de probabilidad, es una función matemática de la variable real: x (minúscula); que describe la probabilidad de que X tenga un valor menor o igual que x.\n",
    "\n",
    "En scipy todas las distribuciones tienen la función `cdf`\n",
    "\n",
    "- https://es.wikipedia.org/wiki/Funci%C3%B3n_de_distribuci%C3%B3n"
   ]
  },
  {
   "cell_type": "code",
   "execution_count": 49,
   "metadata": {},
   "outputs": [
    {
     "name": "stdout",
     "output_type": "stream",
     "text": [
      "0.3333333333333333\n"
     ]
    },
    {
     "data": {
      "text/plain": [
       "0.9986501019683699"
      ]
     },
     "execution_count": 49,
     "metadata": {},
     "output_type": "execute_result"
    }
   ],
   "source": [
    "from scipy.stats import uniform\n",
    "from scipy.stats import norm\n",
    "\n",
    "\n",
    "## En una distribución uniforme X, probabilidad de que el experimento tenga un valor menor o igual a x.\n",
    "## Ejemplo: en un dado equilibrado de 6 caras, probabilidad que salga un numero menor o igual a 2\n",
    "x = 2/6\n",
    "print(uniform.cdf(x, loc=0))\n",
    "\n",
    "## En una distribucion normal de media=0 y desv=1 \n",
    "## cual es la probabilidad de que me salga en un experimento el valor 100\n",
    "norm.cdf(3)"
   ]
  },
  {
   "cell_type": "markdown",
   "metadata": {},
   "source": [
    "## Distribuciones discretas\n",
    "\n",
    "**Discrete Distribution**: La probabilidad total asociada a una variable aleatoria `X` puede obtenerse a partir de la probabilidad de que `X` sea igual a **ciertos valores concretos**.\n",
    "\n",
    "Una variable aleatoria es discreta si `sumatorio(x€R) de P(X=x) = 1`\n",
    "\n",
    "### Principales distribuciones discretas"
   ]
  },
  {
   "cell_type": "markdown",
   "metadata": {},
   "source": [
    "## Uniforme\n",
    "\n"
   ]
  },
  {
   "cell_type": "code",
   "execution_count": 50,
   "metadata": {},
   "outputs": [
    {
     "data": {
      "text/plain": [
       "(array([1025., 1038.,  977.,  967.,  979.,  994., 1009., 1028.,  978.,\n",
       "        1005.]),\n",
       " array([1.06983208e-05, 1.00001998e-01, 1.99993299e-01, 2.99984599e-01,\n",
       "        3.99975899e-01, 4.99967199e-01, 5.99958499e-01, 6.99949799e-01,\n",
       "        7.99941099e-01, 8.99932399e-01, 9.99923699e-01]),\n",
       " <a list of 10 Patch objects>)"
      ]
     },
     "execution_count": 50,
     "metadata": {},
     "output_type": "execute_result"
    },
    {
     "data": {
      "image/png": "[encoded data removed]",
      "text/plain": [
       "<Figure size 432x288 with 1 Axes>"
      ]
     },
     "metadata": {
      "needs_background": "light"
     },
     "output_type": "display_data"
    }
   ],
   "source": [
    "from scipy.stats import uniform\n",
    "\n",
    "# random numbers from uniform distribution\n",
    "n = 10000\n",
    "start = 10\n",
    "width = 20\n",
    "data_uniform = uniform.rvs(size=n)\n",
    "\n",
    "data_uniform.shape\n",
    "plt.hist(data_uniform)"
   ]
  },
  {
   "cell_type": "markdown",
   "metadata": {},
   "source": [
    "## Normal"
   ]
  },
  {
   "cell_type": "code",
   "execution_count": 31,
   "metadata": {},
   "outputs": [
    {
     "data": {
      "text/plain": [
       "[Text(0, 0.5, 'Frequency'), Text(0.5, 0, 'Normal Distribution')]"
      ]
     },
     "execution_count": 31,
     "metadata": {},
     "output_type": "execute_result"
    },
    {
     "data": {
      "image/png": "[encoded data removed]",
      "text/plain": [
       "<Figure size 432x288 with 1 Axes>"
      ]
     },
     "metadata": {
      "needs_background": "light"
     },
     "output_type": "display_data"
    }
   ],
   "source": [
    "from scipy.stats import norm\n",
    "# generate random numbers from N(0,1)\n",
    "data_normal = norm.rvs(size=10000,loc=0,scale=1)\n",
    "\n",
    "ax = sns.distplot(data_normal,\n",
    "                  bins=100,\n",
    "                  kde=True,\n",
    "                  color='skyblue',\n",
    "                  hist_kws={\"linewidth\": 15,'alpha':1})\n",
    "ax.set(xlabel='Normal Distribution', ylabel='Frequency')"
   ]
  },
  {
   "cell_type": "markdown",
   "metadata": {},
   "source": [
    "# TEOREMA DEL LIMITE CENTRAL\n",
    "http://mfviz.com/central-limit/"
   ]
  },
  {
   "cell_type": "markdown",
   "metadata": {},
   "source": [
    "## Bernoulli\n",
    "Bernoulli(⍬), lanzar una moneda con probabilidad `⍬` de que salga cara y `1-⍬` que salga cruz, siendo `0<⍬<1`, ejemplo `X=1` si sale cara y `X=0` si sale cruz.\n",
    "\n",
    "Las distribuciones de bernoulli se presentan cada vez que tenemos una variable respuesta que solo puede tomar dos valores.\n",
    "\n",
    "**Ejemplo**: Seleccionar una persona al azar y ver si es hombre o mujer.\n"
   ]
  },
  {
   "cell_type": "code",
   "execution_count": 51,
   "metadata": {},
   "outputs": [
    {
     "name": "stdout",
     "output_type": "stream",
     "text": [
      "[0 1 0 1 1 0 0 1 1 1]\n"
     ]
    },
    {
     "data": {
      "text/plain": [
       "[Text(0, 0.5, 'Frequency'), Text(0.5, 0, 'Bernoulli Distribution')]"
      ]
     },
     "execution_count": 51,
     "metadata": {},
     "output_type": "execute_result"
    },
    {
     "data": {
      "image/png": "[encoded data removed]",
      "text/plain": [
       "<Figure size 432x288 with 1 Axes>"
      ]
     },
     "metadata": {
      "needs_background": "light"
     },
     "output_type": "display_data"
    }
   ],
   "source": [
    "from scipy.stats import bernoulli\n",
    "data_bern = bernoulli.rvs(size=10000,p=0.6)\n",
    "print(data_bern[:10])\n",
    "ax= sns.distplot(data_bern,\n",
    "                 kde=False,\n",
    "                 color=\"skyblue\",\n",
    "                 hist_kws={\"linewidth\": 15,'alpha':1})\n",
    "ax.set(xlabel='Bernoulli Distribution', ylabel='Frequency')"
   ]
  },
  {
   "cell_type": "markdown",
   "metadata": {},
   "source": [
    "## Binomial\n",
    "`Binomial(n,⍬)`\n",
    "\n",
    "Cuando `n=1` sucede que `Binomial(1,⍬) = Bernoulli(⍬)`\n",
    "\n",
    "Lanzar `n` monendas al aire, cada una de las cuales tiene una probabilidad (independiente) ⍬ de que salga cara y 1-⍬ que salga cruz.\n",
    "\n",
    "- `P(X=x) = factorial(n)/factorial(n)*factorial(n-x)`.\n",
    "    La distribución binomial es aplicable en aquellas situaciones que implican `n` ensayos independientes de un sistema aleatorio. Para cada ensayo registramos `exito` o `fracaso`.\n",
    "    El numero de éxitos en `n` ensayos seguiría la distribución de binomial.\n",
    "- **Ejemplo**: Un jugador de beisbol tiene una probabilidad `⍬` de conseguir un bateo en `n` intentos.\n",
    "- https://docs.scipy.org/doc/scipy/reference/generated/scipy.stats.binom.html\n"
   ]
  },
  {
   "cell_type": "code",
   "execution_count": 52,
   "metadata": {},
   "outputs": [
    {
     "name": "stdout",
     "output_type": "stream",
     "text": [
      "[28 26 24 26 24 26 27 27 27 27]\n"
     ]
    },
    {
     "data": {
      "text/plain": [
       "[Text(0, 0.5, 'Frequency'), Text(0.5, 0, 'Binomial Distribution')]"
      ]
     },
     "execution_count": 52,
     "metadata": {},
     "output_type": "execute_result"
    },
    {
     "data": {
      "image/png": "[encoded data removed]",
      "text/plain": [
       "<Figure size 432x288 with 1 Axes>"
      ]
     },
     "metadata": {
      "needs_background": "light"
     },
     "output_type": "display_data"
    }
   ],
   "source": [
    "from scipy.stats import binom\n",
    "data_binom = binom.rvs(n=30,p=0.9,size=10000)\n",
    "print(data_binom[:10])\n",
    "ax = sns.distplot(data_binom,\n",
    "                  kde=False,\n",
    "                  color='skyblue',\n",
    "                  hist_kws={\"linewidth\": 15,'alpha':1})\n",
    "ax.set(xlabel='Binomial Distribution', ylabel='Frequency')"
   ]
  },
  {
   "cell_type": "markdown",
   "metadata": {},
   "source": [
    "## Geométrica\n",
    "Consideremos el caso de lanzar repetidas veces una moneda (`⍬` de que salga cara y `1-⍬` que salga cruz). Sea `X` el numero de cruces que aparece antes de que salga cara.\n",
    "  - Cuenta el numero de fallos hasta que se produce un éxito:\n",
    "  - **Ejemplo**: Si fabricamos bombillas, el numoero de bombillas que funcionan hasta que sale la primera defectuosa\n",
    "  - https://docs.scipy.org/doc/scipy/reference/generated/scipy.stats.geom.html"
   ]
  },
  {
   "cell_type": "code",
   "execution_count": 54,
   "metadata": {},
   "outputs": [
    {
     "data": {
      "text/plain": [
       "[Text(0, 0.5, 'Frequency'), Text(0.5, 0, 'Geometric Distribution')]"
      ]
     },
     "execution_count": 54,
     "metadata": {},
     "output_type": "execute_result"
    },
    {
     "data": {
      "image/png": "[encoded data removed]",
      "text/plain": [
       "<Figure size 432x288 with 1 Axes>"
      ]
     },
     "metadata": {
      "needs_background": "light"
     },
     "output_type": "display_data"
    }
   ],
   "source": [
    "from scipy.stats import geom\n",
    "data_geom = geom.rvs(p=0.5,size=10000)\n",
    "\n",
    "ax = sns.distplot(data_geom,\n",
    "                  kde=False,\n",
    "                  color='skyblue',\n",
    "                  hist_kws={\"linewidth\": 15,'alpha':1})\n",
    "ax.set(xlabel='Geometric Distribution', ylabel='Frequency')"
   ]
  },
  {
   "cell_type": "markdown",
   "metadata": {},
   "source": [
    "## LAB\n",
    "\n",
    "https://github.com/ironhack-datalabs/datamad0120/tree/master/module-2/lab-probability-distribution"
   ]
  },
  {
   "cell_type": "markdown",
   "metadata": {},
   "source": [
    "## Reference\n",
    "\n",
    "- https://matemovil.com/regla-de-la-multiplicacion-o-producto-de-probabilidades/\n",
    "- https://es.wikipedia.org/wiki/Probabilidad_condicionada\n",
    "- http://www.stat.yale.edu/Courses/1997-98/101/ranvar.html\n",
    "- https://www.analyticsvidhya.com/blog/2017/09/6-probability-distributions-data-science/\n",
    "- https://www.datacamp.com/community/tutorials/probability-distributions-python#comments"
   ]
  },
  {
   "cell_type": "code",
   "execution_count": null,
   "metadata": {},
   "outputs": [],
   "source": []
  }
 ],
 "metadata": {
  "kernelspec": {
   "display_name": "Python 3",
   "language": "python",
   "name": "python3"
  },
  "language_info": {
   "codemirror_mode": {
    "name": "ipython",
    "version": 3
   },
   "file_extension": ".py",
   "mimetype": "text/x-python",
   "name": "python",
   "nbconvert_exporter": "python",
   "pygments_lexer": "ipython3",
   "version": "3.7.5"
  }
 },
 "nbformat": 4,
 "nbformat_minor": 2
}
