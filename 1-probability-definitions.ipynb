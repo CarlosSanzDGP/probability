{
 "cells": [
  {
   "cell_type": "markdown",
   "metadata": {},
   "source": [
    "# Intro to Probability\n",
    "\n",
    "- **Population:** a population is a set of similar items or events which is of interest for some question or experiment\n",
    "- **Sample**: A subset of the population\n",
    "\n",
    "<img src=\"images/normal_distribution.png\" style=\"width: 300px;\"/>"
   ]
  },
  {
   "cell_type": "code",
   "execution_count": 43,
   "metadata": {},
   "outputs": [
    {
     "name": "stdout",
     "output_type": "stream",
     "text": [
      "Reemplazo [ 4  7  2 10 10  5  2  8  2]\n",
      "No-Reemplazo [ 8  5  7 10  6  1  4  2  3]\n"
     ]
    }
   ],
   "source": [
    "import numpy as np\n",
    "population = [1,2,3,4,5,6,7,8,10]\n",
    "\n",
    "# Muestra con reemplazo (puede salir la misma muestra varias veces)\n",
    "s = np.random.choice(population, size=9)\n",
    "print(\"Reemplazo\",s)\n",
    "\n",
    "# Muestra sin reemplazo (nunca vuelve a salir la misma muestra)\n",
    "#  size max = len(population)\n",
    "s = np.random.choice(population, size=9, replace=False)\n",
    "print(\"No-Reemplazo\",s)\n"
   ]
  },
  {
   "cell_type": "markdown",
   "metadata": {},
   "source": [
    "**Variable Aleatoria**: Es una función definida sobre el espacio muestral `S` que asigna valores\n",
    "  del conjunto R de los numeros reales.\n",
    "  Intuitivamente, asigna un valor numerico a cada posible resultado del espacio muestral.\n",
    "  Por ejemplo, si el espacio muestral es {llueve, nieva, despejado}, podemos definir una\n",
    "  variable aleatoria `X` tal que `X=3` si llueve `X=6` si nieva y `X=-2.7` si esta despejado.\n",
    "\n"
   ]
  },
  {
   "cell_type": "markdown",
   "metadata": {},
   "source": [
    "### Ejemplo Variable Aleatoria `X`\n",
    "- `P(X=3)=P(lluvia)=0.4`\n",
    "- `P(X=6)=P(nieve)=0.15`\n",
    "- `P(X=-2.7)=P(despejado)=0.45`\n",
    "También podemos calcular `P(X € {3,6}) = P(X=3) + P(X=6) = 0.4+0.15 = 0.55`\n",
    "\n",
    "**La distribución** de la variable aleatoria `X` es el conjunto de probabilidades `P(X€B)` para todo subconjunto `B` de numeros reales. La probabolidad de `P(X€B)` se evalua calculando\n",
    "las probabilidades del conjunto de valores de las respuestas de `S` tales que `X(S) € B`, es decir `P(X € B) = P({s € S : X(s) € B})`"
   ]
  },
  {
   "cell_type": "code",
   "execution_count": 44,
   "metadata": {},
   "outputs": [
    {
     "data": {
      "text/plain": [
       "(array([ 10.,  28., 103., 182., 259., 210., 141.,  55.,  10.,   2.]),\n",
       " array([-3.01151366, -2.36941549, -1.72731732, -1.08521915, -0.44312098,\n",
       "         0.19897719,  0.84107536,  1.48317353,  2.1252717 ,  2.76736987,\n",
       "         3.40946804]),\n",
       " <a list of 10 Patch objects>)"
      ]
     },
     "execution_count": 44,
     "metadata": {},
     "output_type": "execute_result"
    },
    {
     "data": {
      "image/png": "[encoded data removed]",
      "text/plain": [
       "<Figure size 720x144 with 2 Axes>"
      ]
     },
     "metadata": {
      "needs_background": "light"
     },
     "output_type": "display_data"
    }
   ],
   "source": [
    "%matplotlib inline\n",
    "import matplotlib.pyplot as plt\n",
    "# Random variable X (samples from Normal distribution)\n",
    "X = np.random.normal(size=1000)\n",
    "\n",
    "# Check that the distribution is normal\n",
    "plt.figure(figsize=(10,2))\n",
    "plt.subplot(1,2,1)\n",
    "plt.stem(X,use_line_collection=True)\n",
    "plt.subplot(1,2,2)\n",
    "plt.hist(X)"
   ]
  },
  {
   "cell_type": "markdown",
   "metadata": {},
   "source": [
    "## Conditional Probability\n",
    "\n",
    "- The conditional probability P(A|B) is the probability of event A given that event B as occurred.\n",
    "  <img src=\"images/prob_conditional_1.png\" style=\"width: 300px; display:inline;\"/>\n",
    "  <img src=\"images/prob_conditional_table.png\" style=\"width: 300px; display:inline;\"/>\n",
    "  <img src=\"images/prob_conditional_formula_2.jpg\" style=\"width: 300px; display:inline;\"/>\n",
    "  <img src=\"images/prob_conditional_formula_1.jpg\" style=\"width: 300px; display:inline;\"/>\n",
    "\n",
    "\n",
    "  - **Conditional Probability visualized** http://setosa.io/conditional/\n",
    "  - **Conditional Probability Explained** https://towardsdatascience.com/conditional-probability-with-a-python-example-fd6f5937cd2"
   ]
  },
  {
   "cell_type": "code",
   "execution_count": null,
   "metadata": {},
   "outputs": [],
   "source": []
  },
  {
   "cell_type": "markdown",
   "metadata": {},
   "source": [
    "## Mutual exclusivity of Events\n",
    "\n",
    "Two events are said to be mutually exclusive if they cannot happen at the same time.\n",
    "\n",
    "For example, if we toss a coin, either heads or tails might turn up, but not heads and tails at the same time.\n",
    "\n",
    "<div style=\"text-align:center;\">\n",
    "<img src=\"images/mutual_exclusive_1.png\" style=\"width: 300px; display:inline;\"/>\n",
    "<img src=\"images/mutual_exclusive_3.jpg\" style=\"width: 300px; display:inline;\"/>\n",
    "<img src=\"images/mutual_exclusive_2.png\" style=\"width: 300px;\"/>\n",
    "</div>\n"
   ]
  },
  {
   "cell_type": "markdown",
   "metadata": {},
   "source": [
    "## Variance and STD Deviation\n",
    "**Variance**: The average of the squared differences from the Mean.\n",
    "  1. Work out the Mean (the simple average of the numbers)\n",
    "  2. Then for each number: subtract the Mean and square the result (the squared difference).\n",
    "  3. Then work out the average of those squared differences.\n",
    "\n",
    "**Standard Deviation:** Is the squared root of the variance. The Standard Deviation\n",
    "    is a measure of how spread out numbers are. \n",
    "    Its symbol is σ. it is the square root of the **Variance**.\n",
    "    \n",
    "More: [https://www.mathsisfun.com/data/standard-deviation.html]"
   ]
  },
  {
   "cell_type": "code",
   "execution_count": 45,
   "metadata": {},
   "outputs": [
    {
     "name": "stdout",
     "output_type": "stream",
     "text": [
      "Variance:0.065 Standard Deviation:0.256 \n"
     ]
    }
   ],
   "source": [
    "X = np.random.random(10)\n",
    "var = np.round(X.var(),decimals=3)\n",
    "std = np.round(X.std(),decimals=3)\n",
    "\n",
    "print(f\"Variance:{var} Standard Deviation:{std} \")\n"
   ]
  },
  {
   "cell_type": "code",
   "execution_count": null,
   "metadata": {},
   "outputs": [],
   "source": []
  }
 ],
 "metadata": {
  "kernelspec": {
   "display_name": "Python 3",
   "language": "python",
   "name": "python3"
  },
  "language_info": {
   "codemirror_mode": {
    "name": "ipython",
    "version": 3
   },
   "file_extension": ".py",
   "mimetype": "text/x-python",
   "name": "python",
   "nbconvert_exporter": "python",
   "pygments_lexer": "ipython3",
   "version": "3.7.5"
  }
 },
 "nbformat": 4,
 "nbformat_minor": 2
}
