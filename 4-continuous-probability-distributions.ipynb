{
 "cells": [
  {
   "cell_type": "code",
   "execution_count": null,
   "metadata": {},
   "outputs": [],
   "source": [
    "## Distribuciones contínuas\n",
    "\n",
    "- **Continuous Distribution**: You show up at a bus stop to wait for a bus that comes by once per hour. You do not know what time the bus came by last. The arrival time of the next bus is a continuous uniform distribution [0,1] measured in hours.\n",
    "\n",
    "  - `P(X=x) = 0` para un punto concreto. Lo que suma 1 es la integral sobre todo `R`.\n",
    "  - Solo podemos calcular la probabilidad de `P(a <= X <= b)` usando la integral en ese rango. A esto se le llama **función de densidad**\n",
    "\n",
    "### Principales distribuciones contínuas\n",
    "\n",
    "- **Distribución uniforme**: `[0,1]` o `[L,R]`.\n",
    "  - Función de densidad es: `P(a <= X <= b) = (b-a)/(R-L)`\n",
    "  - Destacar que tiene el mismo valor de probabilidad para todos los intervalos\n",
    "  - https://docs.scipy.org/doc/scipy/reference/generated/scipy.stats.uniform.html\n",
    "- **Distribución exponencial**\n",
    "\n",
    "  - `f(x)= e^(-x)` si `x>0` sino es `0`\n",
    "  - **Ejemplo** Se puede usar también para modelar tiempos de vida. Por ejemplo para calcular el tiempo de vida de una bombilla producida. Notse que el tiempo puede ser un valor en todo `R`.\n",
    "\n",
    "  - https://docs.scipy.org/doc/scipy/reference/generated/scipy.stats.expon.html\n",
    "\n",
    "- **Distribución Gamma**\n",
    "\n",
    "  - Se puede usar también para modelar tiempos de vida ya que ofrece una familia de funciones con variedad de perfiles\n",
    "\n",
    "- **Distribución Normal**: `N(mu,ro^2)`\n",
    "  - `ro^2`: Varianza, `ro`: Desviacion estándar\n",
    "  - Teorema del limite central\n",
    "  - https://docs.scipy.org/doc/scipy/reference/generated/scipy.stats.norm.html"
   ]
  }
 ],
 "metadata": {
  "kernelspec": {
   "display_name": "Python 3",
   "language": "python",
   "name": "python3"
  },
  "language_info": {
   "codemirror_mode": {
    "name": "ipython",
    "version": 3
   },
   "file_extension": ".py",
   "mimetype": "text/x-python",
   "name": "python",
   "nbconvert_exporter": "python",
   "pygments_lexer": "ipython3",
   "version": "3.7.5"
  }
 },
 "nbformat": 4,
 "nbformat_minor": 2
}
