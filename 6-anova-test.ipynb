{
 "cells": [
  {
   "cell_type": "code",
   "execution_count": 1,
   "metadata": {},
   "outputs": [
    {
     "ename": "SyntaxError",
     "evalue": "invalid syntax (<ipython-input-1-bfee1e2557fc>, line 2)",
     "output_type": "error",
     "traceback": [
      "\u001b[0;36m  File \u001b[0;32m\"<ipython-input-1-bfee1e2557fc>\"\u001b[0;36m, line \u001b[0;32m2\u001b[0m\n\u001b[0;31m    ANOVA (or ANalysis Of VAriance) is a technique meant to compare the means of three or more independent samples. An example of when we might use ANOVA is when conducting a test on an e-commerce website and trying out multiple UI designs at once to see if there is a change in sales.\u001b[0m\n\u001b[0m            ^\u001b[0m\n\u001b[0;31mSyntaxError\u001b[0m\u001b[0;31m:\u001b[0m invalid syntax\n"
     ]
    }
   ],
   "source": [
    "## ANOVA\n",
    "ANOVA (or ANalysis Of VAriance) is a technique meant to compare the means of three or more independent samples. An example of when we might use ANOVA is when conducting a test on an e-commerce website and trying out multiple UI designs at once to see if there is a change in sales.\n",
    "\n",
    "The ANOVA test has important assumptions that must be satisfied in order for the associated p-value to be valid.\n",
    "    1. The samples are independent.\n",
    "    2. Each sample is from a normally distributed population.\n",
    "    3. The population standard deviations of the groups are all equal. This property is known as homoscedasticity.\n",
    "\n",
    "If these assumptions are not true for a given set of data, it may still be possible to use the **Kruskal-Wallis H-test (scipy.stats.kruskal)** although with some loss of power.\n",
    "\n",
    "### Example\n",
    "```python\n",
    "import statsmodels.api as sm\n",
    "from statsmodels.formula.api import ols\n",
    "from scipy.stats import f_oneway\n",
    "\n",
    "rate = pd.read_csv('rate_by_city.csv')\n",
    "\n",
    "## EXAMPLE 1 - ANOVA TEST\n",
    "rate['city_count'] = rate.groupby('City').cumcount()\n",
    "rate_pivot = rate.pivot(index='city_count', columns='City', values='Rate')\n",
    "rate_pivot.columns = ['City_'+str(x) for x in rate_pivot.columns.values]\n",
    "rate_pivot.head()\n",
    "\n",
    "f_oneway(rate_pivot.City_1,rate_pivot.City_2,rate_pivot.City_3,rate_pivot.City_4,rate_pivot.City_5,rate_pivot.City_6)\n",
    "\n",
    "## EXAMPLE 2 - Same as previous\n",
    "# In this case, we prefer not to pivot our data since the library will do it for us.\n",
    "# The pivoting is performed internally by using the C function\n",
    "model = ols('Rate ~ C(City)', data=rate).fit()\n",
    "\n",
    "# Our result is the same p-value and our conclusion to reject remains the same.\n",
    "anova_table = sm.stats.anova_lm(model, typ=2)\n",
    "```"
   ]
  },
  {
   "cell_type": "code",
   "execution_count": null,
   "metadata": {},
   "outputs": [],
   "source": []
  }
 ],
 "metadata": {
  "kernelspec": {
   "display_name": "Python 3",
   "language": "python",
   "name": "python3"
  },
  "language_info": {
   "codemirror_mode": {
    "name": "ipython",
    "version": 3
   },
   "file_extension": ".py",
   "mimetype": "text/x-python",
   "name": "python",
   "nbconvert_exporter": "python",
   "pygments_lexer": "ipython3",
   "version": "3.7.5"
  }
 },
 "nbformat": 4,
 "nbformat_minor": 2
}
