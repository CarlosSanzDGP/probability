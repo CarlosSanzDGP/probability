{
 "cells": [
  {
   "cell_type": "markdown",
   "metadata": {},
   "source": [
    "# Statistical hypothesis testing\n",
    "\n",
    "A statistical hypothesis test, sometimes called confirmatory data analysis, is a hypothesis that is testable on the basis of observing a process that is modeled via a set of random variables.\n",
    "\n",
    "**example:** we can assume the average income of NYC residents is $850,000. This assumption may or may not be true.\n",
    "\n",
    "**Null hypothesis $H_0$**: A null hypothesis is a precise statement about a population that we **try to reject with sample data**. The hypothesis that there is no significant difference between specified populations, any observed difference being due to sampling or experimental error. **Example:** Sample mean is same as the population mean.\n",
    "\n",
    "**Alternative hypothesis $H_1$**: Counterpoint to the null hypotesis (**what you hope to prove**). **Example:** Sample mean is not same as the population mean\n",
    "\n",
    "\n",
    "## Types of Alternative Hypotheses\n",
    "There are two types of alternative hypotheses: one-sided and two-sided. One-sided alternative hypothesis (a.k.a. directional hypothesis) is used to determine whether the population average differs from the hypothesized value in a specific direction (larger but not smaller than, or vice versa). In contrast, two-sided alternative hypothesis (a.k.a. nondirectional hypothesis) is used to determine whether the population average is either greater than or less than the hypothesized value.\n",
    "\n",
    "- **One-way test:** Hypotesis test that counts chance results only in one direction.\n",
    "- **Two-way test:** Hypotsis test that counts chance results in two directions.\n",
    "\n",
    "<table style=\"width:60%; text-align:center;\">\n",
    "  <tr>\n",
    "    <th>Null Hypotesis $H_0$</th>\n",
    "    <th>One-way $H_1$</th>\n",
    "    <th>Two-way $H_1$</th>\n",
    "  </tr>\n",
    "  <tr>\n",
    "    <td>$H_0: \\mu = k$ </td>\n",
    "    <td>$H_1: \\mu \\ne k$</td>\n",
    "    <td>$H_1:μ>k \\text{ or } H_1:μ<k$ </td>\n",
    "  </tr>\n",
    "</table>\n"
   ]
  },
  {
   "cell_type": "code",
   "execution_count": null,
   "metadata": {},
   "outputs": [],
   "source": []
  },
  {
   "cell_type": "markdown",
   "metadata": {},
   "source": [
    "## Type 1 and Type 2 Errors\n",
    "\n",
    "In assessing statistical significance, two types of error are possible:\n",
    "\n",
    "- **Type 1 error**: You mistakenly conclude an effect **is real**, when it is really just due to chance. Rechazar $H_0$ cuando es verdadera.\n",
    "- **Type 2 error**: You mistakenly conclude that an efect is **not real**, when it really is real. Aceptar $H_0$ cuando es falsa.\n",
    "\n",
    "\n",
    "## Hypotesis tests and errors\n",
    "The basic function of significance tests (also called hypotesis tests) is to protect against being fooled by random chance; thus they are typically structured to minimize **Type 1** errors.\n",
    " "
   ]
  },
  {
   "cell_type": "markdown",
   "metadata": {},
   "source": []
  },
  {
   "cell_type": "markdown",
   "metadata": {},
   "source": [
    "\n",
    "## Statistical Significance and P-Values\n",
    "\n",
    "**p-value**: A p-value is the probability that the results from your sample data occurred by chance. Range from `[0.0-1.0]`\n",
    "\n",
    "Low p-values are good; They indicate your data did not occur by chance.  We hope for a low value, so we can conclude that we've proved something.\n",
    "\n",
    "<img src=\"images/P-value_Graph.png\"/>\n",
    "\n"
   ]
  },
  {
   "cell_type": "code",
   "execution_count": 11,
   "metadata": {},
   "outputs": [],
   "source": [
    "checkPValue = lambda p,threshold=0.05: \"--> Null(H0) hypotesis rejected\" if p < threshold else \"--> We cannot reject the null hypotesis\"\n"
   ]
  },
  {
   "cell_type": "markdown",
   "metadata": {},
   "source": [
    "# Significance tests"
   ]
  },
  {
   "cell_type": "markdown",
   "metadata": {},
   "source": [
    "## Student's t-test\n",
    "\n",
    "Tests for a Student’s t-distribution. In a normally distributed population where standard deviation in unknown and sample size is comparatively small. \n",
    "\n",
    "Is used to compare the mean of two given samples.\n",
    "\n",
    "The t-test (also called Student’s T Test) compares two averages (means) and tells you if they are different from each other. The t test also tells you how significant the differences are; In other words it lets you know if those differences could have happened by chance.\n",
    "\n",
    "- A large t-score tells you that the groups are different.\n",
    "- A small t-score tells you that the groups are similar.\n",
    "\n",
    "\n",
    "### Types of t-test\n",
    "\n",
    "There are three main types:\n",
    "\n",
    "1. An **Independent Samples** t-test compares the means for two groups.\n",
    "2. A **Paired sample** t-test compares means from the same group at different times (say, one year apart).\n",
    "3. A **One sample** t-test tests the mean of a single group against a known mean.\n",
    "\n",
    "When you run a hypothesis test, you use the T statistic with a p value. The p-value tells you what the odds are that your results could have happened by chance. \n",
    "\n",
    "### Example: test outcome, the p-value\n",
    "\n",
    "Let’s say you and a group of friends score an average of 205 on a bowling game.\n",
    "\n",
    "You know the average bowler scores is 79.7. Should you and your friends consider professional bowling? Or are those scores a fluke? \n",
    "\n",
    "Finding the t statistic and the probability value will give you a good idea. More technically, finding those values will give you evidence of a significant difference between your team’s mean and the population mean (i.e. everyone).\n",
    "\n",
    "The greater the T, the more evidence you have that your team’s scores are significantly different from average.\n",
    "\n",
    "A smaller T value is evidence that your team’s score is not significantly different from average. \n",
    "\n",
    "It’s pretty obvious that your team’s score (205) is significantly different from 79.7, so you’d want to take a look at the probability value. **If the p-value is larger than 5%**, the odds are your team getting those scores are due to chance. Very small (under 5%), you’re onto something: think about going professional.\n",
    "\n"
   ]
  },
  {
   "cell_type": "code",
   "execution_count": 2,
   "metadata": {},
   "outputs": [
    {
     "data": {
      "text/plain": [
       "<matplotlib.legend.Legend at 0x10a696150>"
      ]
     },
     "execution_count": 2,
     "metadata": {},
     "output_type": "execute_result"
    },
    {
     "data": {
      "image/png": "[encoded data removed]",
      "text/plain": [
       "<Figure size 432x288 with 1 Axes>"
      ]
     },
     "metadata": {
      "needs_background": "light"
     },
     "output_type": "display_data"
    }
   ],
   "source": [
    "%matplotlib inline\n",
    "import numpy as np\n",
    "from scipy.stats import t\n",
    "import matplotlib.pyplot as plt\n",
    "\n",
    "# Calculate a few first moments\n",
    "df = 2.74335149908\n",
    "mean, var, skew, kurt = t.stats(df, moments='mvsk')\n",
    "\n",
    "# Display the probability density function (pdf)\n",
    "x = np.linspace(t.ppf(0.01, df),t.ppf(0.99, df), 100)\n",
    "plt.plot(x, t.pdf(x, df),'r-')\n",
    "plt.legend([\"Student T - Probability Density Function\"])"
   ]
  },
  {
   "cell_type": "code",
   "execution_count": null,
   "metadata": {},
   "outputs": [],
   "source": []
  },
  {
   "cell_type": "markdown",
   "metadata": {},
   "source": [
    "### One-sample T-Test\n",
    "\n",
    "$${\\displaystyle t={\\frac {Z}{s}}={\\frac {{\\bar {X}}-\\mu }{\\frac{\\widehat {\\sigma }}{{\\sqrt {n}}}}}}$$\n",
    "\n",
    "where:\n",
    "- $n$ is the sample size\n",
    "- $\\bar{X}$ is the sample mean from a sample `X1, X2, …, Xn` of size $n$, \n",
    "- $s$ is the standard error of the mean\n",
    "- $\\widehat {\\sigma }$ is the estimate of the standard deviation of the population\n",
    "- $μ$ is the population mean.\n",
    "\n",
    "\n",
    "**Note:** Most test statistics have the form $t = \\frac{Z}{s'}$ where Z and s are functions of the data.\n"
   ]
  },
  {
   "cell_type": "code",
   "execution_count": 12,
   "metadata": {},
   "outputs": [
    {
     "name": "stdout",
     "output_type": "stream",
     "text": [
      "Ttest_1sampResult(statistic=array([-0.68014479, -0.04323899]), pvalue=array([0.49961383, 0.96568674]))\n",
      "--> We cannot reject the null hypotesis\n",
      "Ttest_1sampResult(statistic=array([2.77025808, 4.11038784]), pvalue=array([0.00789095, 0.00014999]))\n",
      "--> Null(H0) hypotesis rejected\n"
     ]
    }
   ],
   "source": [
    "from scipy import stats\n",
    "\n",
    "np.random.seed(7654567)  # fix seed to get the same result\n",
    "rvs = stats.norm.rvs(loc=5, scale=10, size=(50,2))\n",
    "\n",
    "\n",
    "# Test if mean of random sample is equal to true mean, and different mean. \n",
    "# We don’t reject it in the first case and reject the null hypothesis in the second one.\n",
    "\n",
    "resA = stats.ttest_1samp(rvs,5.0)\n",
    "print(resA)\n",
    "print(checkPValue(resA.pvalue[0]))\n",
    "\n",
    "resB = stats.ttest_1samp(rvs,0.0)\n",
    "print(resB)\n",
    "print(checkPValue(resB.pvalue[0]))\n"
   ]
  },
  {
   "cell_type": "markdown",
   "metadata": {},
   "source": [
    "### Paired sample T-test (dependent)\n",
    "This test is used when the samples are dependent; that is, when there is only one sample that has been tested twice (repeated measures) or when there are two samples that have been matched or \"paired\". This is an example of a paired difference test. The t statistic is calculated as:\n",
    "\n",
    "$${\\displaystyle t={\\frac {{\\bar {X}}_{D}-\\mu _{0}}{s_{D}/{\\sqrt {n}}}}}$$\n",
    "\n",
    "where:\n",
    "- $\\bar{X_D}$ average of the differences between all pairs.\n",
    "- $\\bar{s_D}$ standard deviation of the differences between all pairs\n",
    "\n",
    "Note: An example of paired dependent variables is scores of the **same set of student in different exams**\n"
   ]
  },
  {
   "cell_type": "code",
   "execution_count": 16,
   "metadata": {},
   "outputs": [
    {
     "name": "stdout",
     "output_type": "stream",
     "text": [
      "Ttest_relResult(statistic=0.24101764965300979, pvalue=0.8096404344581155)\n",
      "--> We cannot reject the null hypotesis\n",
      "Ttest_relResult(statistic=-3.9995108708727924, pvalue=7.308240219166128e-05)\n",
      "--> Null(H0) hypotesis rejected\n"
     ]
    }
   ],
   "source": [
    "from scipy import stats\n",
    "np.random.seed(12345678) # fix random seed to get same numbers\n",
    "\n",
    "rvs1 = stats.norm.rvs(loc=5,scale=10,size=500)\n",
    "rvs2 = (stats.norm.rvs(loc=5,scale=10,size=500) +\n",
    "        stats.norm.rvs(scale=0.2,size=500))\n",
    "res = stats.ttest_rel(rvs1,rvs2)\n",
    "print(res)\n",
    "print(checkPValue(res.pvalue))\n",
    "\n",
    "\n",
    "rvs3 = (stats.norm.rvs(loc=8,scale=10,size=500) +\n",
    "        stats.norm.rvs(scale=0.2,size=500))\n",
    "res = stats.ttest_rel(rvs1,rvs3)\n",
    "print(res)\n",
    "print(checkPValue(res.pvalue))\n"
   ]
  },
  {
   "cell_type": "markdown",
   "metadata": {},
   "source": [
    "## Another example, this time without `scipy``"
   ]
  },
  {
   "cell_type": "code",
   "execution_count": 33,
   "metadata": {},
   "outputs": [
    {
     "name": "stdout",
     "output_type": "stream",
     "text": [
      "1.0955096668006201 1.5510211366115658\n"
     ]
    }
   ],
   "source": [
    "import numpy as np\n",
    "from scipy import stats\n",
    "\n",
    "# Define 2 normal random distributions (A,B). Get 10 samples out of each one\n",
    "N = 10\n",
    "\n",
    "a = np.random.randn(N) + 2 # with mean=2 and var=1\n",
    "b = np.random.randn(N) # with mean=1 and var=1\n",
    "\n",
    "\n",
    "# For unbiased max likelihood estimate we have to divide the var by N-1, and therefore the parameter ddof = 1\n",
    "# In standard statistical practice, ddof=1 provides an unbiased estimator of the variance of a hypothetical\n",
    "# infinite population\n",
    "\n",
    "# Calculate the variance to get the standard deviation\n",
    "var_a = a.var(ddof=1)\n",
    "var_b = b.var(ddof=1)\n",
    "print(var_a, var_b)"
   ]
  },
  {
   "cell_type": "code",
   "execution_count": 34,
   "metadata": {},
   "outputs": [
    {
     "name": "stdout",
     "output_type": "stream",
     "text": [
      "t=4.435696470027005 p=0.0003192497830990515\n"
     ]
    },
    {
     "data": {
      "text/plain": [
       "'Null(H0) hypotesis rejected'"
      ]
     },
     "execution_count": 34,
     "metadata": {},
     "output_type": "execute_result"
    }
   ],
   "source": [
    "#std deviation\n",
    "s = np.sqrt((var_a + var_b)/2)\n",
    "\n",
    "## Calculate the t-statistics\n",
    "t = (a.mean() - b.mean())/(s*np.sqrt(2/N))\n",
    "\n",
    "## Compare with the critical t-value, Degrees of freedom\n",
    "df = 2*N - 2\n",
    "\n",
    "#p-value after comparison with the t\n",
    "p = 2*(1 - stats.t.cdf(t,df=df))\n",
    "\n",
    "# You can see that after comparing the t statistic with the critical t value (computed internally)\n",
    "# we get a good p value of 0.0005 and thus we reject the null hypothesis and thus it proves that \n",
    "# the mean of the two distributions are different and statistically significant.\n",
    "print(f\"t={t} p={p}\")\n",
    "checkPValue(p)"
   ]
  },
  {
   "cell_type": "code",
   "execution_count": 36,
   "metadata": {},
   "outputs": [
    {
     "name": "stdout",
     "output_type": "stream",
     "text": [
      "t=4.435696470027005 p=0.0003192497830990515\n"
     ]
    },
    {
     "data": {
      "text/plain": [
       "'Null(H0) hypotesis rejected'"
      ]
     },
     "execution_count": 36,
     "metadata": {},
     "output_type": "execute_result"
    }
   ],
   "source": [
    "# Cross Checking with the internal scipy function\n",
    "t2, p2 = stats.ttest_ind(a,b)\n",
    "print(f\"t={t} p={p}\")\n",
    "checkPValue(p)"
   ]
  },
  {
   "cell_type": "markdown",
   "metadata": {},
   "source": [
    "## Resources & references\n",
    "- https://en.wikipedia.org/wiki/Student%27s_t-test\n",
    "- https://www.statisticshowto.datasciencecentral.com/t-statistic/\n",
    "- https://www.statisticshowto.datasciencecentral.com/probability-and-statistics/z-score/\n",
    "- http://www.ttable.org/z-score-table.html\n",
    "- https://www.statisticshowto.datasciencecentral.com/probability-and-statistics/hypothesis-testing/t-score-vs-z-score/\n",
    "- https://ncss-wpengine.netdna-ssl.com/wp-content/themes/ncss/pdf/Procedures/NCSS/One-Sample_T-Test.pdf"
   ]
  },
  {
   "cell_type": "code",
   "execution_count": null,
   "metadata": {},
   "outputs": [],
   "source": []
  }
 ],
 "metadata": {
  "kernelspec": {
   "display_name": "Python 3",
   "language": "python",
   "name": "python3"
  },
  "language_info": {
   "codemirror_mode": {
    "name": "ipython",
    "version": 3
   },
   "file_extension": ".py",
   "mimetype": "text/x-python",
   "name": "python",
   "nbconvert_exporter": "python",
   "pygments_lexer": "ipython3",
   "version": "3.7.5"
  }
 },
 "nbformat": 4,
 "nbformat_minor": 2
}
