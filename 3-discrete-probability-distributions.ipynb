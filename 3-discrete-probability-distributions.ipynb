{
 "cells": [
  {
   "cell_type": "code",
   "execution_count": 11,
   "metadata": {},
   "outputs": [],
   "source": [
    "%matplotlib inline\n",
    "import matplotlib.pyplot as plt\n",
    "import seaborn as sns"
   ]
  },
  {
   "cell_type": "markdown",
   "metadata": {},
   "source": [
    "## Función_de_distribución (Cumulative distribution function)\n",
    "\n",
    "Función de probabilidad acumulada asociada a una variable aleatoria real: `X`sujeta a cierta ley de distribución de probabilidad, es una función matemática de la variable real: x (minúscula); que describe la probabilidad de que X tenga un valor menor o igual que x.\n",
    "\n",
    "En scipy todas las distribuciones tienen la función `cdf`\n",
    "\n",
    "- https://es.wikipedia.org/wiki/Funci%C3%B3n_de_distribuci%C3%B3n"
   ]
  },
  {
   "cell_type": "code",
   "execution_count": 29,
   "metadata": {},
   "outputs": [
    {
     "data": {
      "text/plain": [
       "0.3333333333333333"
      ]
     },
     "execution_count": 29,
     "metadata": {},
     "output_type": "execute_result"
    }
   ],
   "source": [
    "from scipy.stats import uniform\n",
    "\n",
    "\n",
    "## En una distribución uniforme X, probabilidad de que el experimento tenga un valor menor o igual a x.\n",
    "## Ejemplo: en un dado equilibrado de 6 caras, probabilidad que salga un numero menor o igual a 2\n",
    "x = 2/6\n",
    "uniform.cdf(x, loc=0)"
   ]
  },
  {
   "cell_type": "markdown",
   "metadata": {},
   "source": [
    "## Distribuciones discretas\n",
    "\n",
    "**Discrete Distribution**: La probabilidad total asociada a una variable aleatoria `X` puede obtenerse a partir de la probabilidad de que `X` sea igual a **ciertos valores concretos**.\n",
    "\n",
    "Una variable aleatoria es discreta si `sumatorio(x€R) de P(X=x) = 1`\n",
    "\n",
    "### Principales distribuciones discretas"
   ]
  },
  {
   "cell_type": "markdown",
   "metadata": {},
   "source": [
    "## Uniforme\n",
    "\n"
   ]
  },
  {
   "cell_type": "code",
   "execution_count": 30,
   "metadata": {},
   "outputs": [
    {
     "data": {
      "text/plain": [
       "(array([ 970., 1022., 1025.,  971.,  995.,  970., 1034., 1033., 1002.,\n",
       "         978.]),\n",
       " array([10.00017561, 11.99970269, 13.99922977, 15.99875684, 17.99828392,\n",
       "        19.997811  , 21.99733808, 23.99686515, 25.99639223, 27.99591931,\n",
       "        29.99544639]),\n",
       " <a list of 10 Patch objects>)"
      ]
     },
     "execution_count": 30,
     "metadata": {},
     "output_type": "execute_result"
    },
    {
     "data": {
      "image/png": "[encoded data removed]",
      "text/plain": [
       "<Figure size 432x288 with 1 Axes>"
      ]
     },
     "metadata": {
      "needs_background": "light"
     },
     "output_type": "display_data"
    }
   ],
   "source": [
    "from scipy.stats import uniform\n",
    "\n",
    "# random numbers from uniform distribution\n",
    "n = 10000\n",
    "start = 10\n",
    "width = 20\n",
    "data_uniform = uniform.rvs(size=n, loc=start, scale=width)\n",
    "\n",
    "data_uniform.shape\n",
    "plt.hist(data_uniform)"
   ]
  },
  {
   "cell_type": "markdown",
   "metadata": {},
   "source": [
    "## Normal"
   ]
  },
  {
   "cell_type": "code",
   "execution_count": 31,
   "metadata": {},
   "outputs": [
    {
     "data": {
      "text/plain": [
       "[Text(0, 0.5, 'Frequency'), Text(0.5, 0, 'Normal Distribution')]"
      ]
     },
     "execution_count": 31,
     "metadata": {},
     "output_type": "execute_result"
    },
    {
     "data": {
      "image/png": "[encoded data removed]",
      "text/plain": [
       "<Figure size 432x288 with 1 Axes>"
      ]
     },
     "metadata": {
      "needs_background": "light"
     },
     "output_type": "display_data"
    }
   ],
   "source": [
    "from scipy.stats import norm\n",
    "# generate random numbers from N(0,1)\n",
    "data_normal = norm.rvs(size=10000,loc=0,scale=1)\n",
    "\n",
    "ax = sns.distplot(data_normal,\n",
    "                  bins=100,\n",
    "                  kde=True,\n",
    "                  color='skyblue',\n",
    "                  hist_kws={\"linewidth\": 15,'alpha':1})\n",
    "ax.set(xlabel='Normal Distribution', ylabel='Frequency')"
   ]
  },
  {
   "cell_type": "markdown",
   "metadata": {},
   "source": [
    "# TEOREMA DEL LIMITE CENTRAL\n",
    "http://mfviz.com/central-limit/"
   ]
  },
  {
   "cell_type": "markdown",
   "metadata": {},
   "source": [
    "## Bernoulli\n",
    "Bernoulli(⍬), lanzar una moneda con probabilidad `⍬` de que salga cara y `1-⍬` que salga cruz, siendo `0<⍬<1`, ejemplo `X=1` si sale cara y `X=0` si sale cruz.\n",
    "\n",
    "Las distribuciones de bernoulli se presentan cada vez que tenemos una variable respuesta que solo puede tomar dos valores.\n",
    "\n",
    "**Ejemplo**: Prueba en cadena de producción, seleccionar una persona al azar y ver si es hombre o mujer.\n"
   ]
  },
  {
   "cell_type": "code",
   "execution_count": 32,
   "metadata": {},
   "outputs": [
    {
     "name": "stderr",
     "output_type": "stream",
     "text": [
      "/usr/local/lib/python3.7/site-packages/scipy/stats/stats.py:1713: FutureWarning: Using a non-tuple sequence for multidimensional indexing is deprecated; use `arr[tuple(seq)]` instead of `arr[seq]`. In the future this will be interpreted as an array index, `arr[np.array(seq)]`, which will result either in an error or a different result.\n",
      "  return np.add.reduce(sorted[indexer] * weights, axis=axis) / sumval\n"
     ]
    },
    {
     "data": {
      "text/plain": [
       "[Text(0, 0.5, 'Frequency'), Text(0.5, 0, 'Bernoulli Distribution')]"
      ]
     },
     "execution_count": 32,
     "metadata": {},
     "output_type": "execute_result"
    },
    {
     "data": {
      "image/png": "[encoded data removed]",
      "text/plain": [
       "<Figure size 432x288 with 1 Axes>"
      ]
     },
     "metadata": {
      "needs_background": "light"
     },
     "output_type": "display_data"
    }
   ],
   "source": [
    "from scipy.stats import bernoulli\n",
    "data_bern = bernoulli.rvs(size=10000,p=0.6)\n",
    "ax= sns.distplot(data_bern,\n",
    "                 kde=False,\n",
    "                 color=\"skyblue\",\n",
    "                 hist_kws={\"linewidth\": 15,'alpha':1})\n",
    "ax.set(xlabel='Bernoulli Distribution', ylabel='Frequency')"
   ]
  },
  {
   "cell_type": "markdown",
   "metadata": {},
   "source": [
    "## Binomial\n",
    "Binomial(n,⍬) (Binomial(1,⍬)=Bernoulli(⍬)) Lanzar `n` monendas al aire, cada una de las cuales tiene una probabilidad (independiente) ⍬ de que salga cara y 1-⍬ que salga cruz.\n",
    "\n",
    "- `P(X=x) = factorial(n)/factorial(n)*factorial(n-x)`.\n",
    "    La distribución binomial es aplicable en aquellas situaciones que implican `n` ensayos independientes de un sistema aleatorio. Para cada ensayo registramos `exito` o `fracaso`.\n",
    "    El numero de éxitos en `n` ensayos seguiría la distribución de binomial.\n",
    "- **Ejemplo**: Un jugador de beisbol tiene una probabilidad `⍬` de conseguir un bateo en `n` intentos.\n",
    "- https://docs.scipy.org/doc/scipy/reference/generated/scipy.stats.binom.html\n"
   ]
  },
  {
   "cell_type": "code",
   "execution_count": 42,
   "metadata": {},
   "outputs": [
    {
     "data": {
      "text/plain": [
       "[Text(0, 0.5, 'Frequency'), Text(0.5, 0, 'Binomial Distribution')]"
      ]
     },
     "execution_count": 42,
     "metadata": {},
     "output_type": "execute_result"
    },
    {
     "data": {
      "image/png": "[encoded data removed]",
      "text/plain": [
       "<Figure size 432x288 with 1 Axes>"
      ]
     },
     "metadata": {
      "needs_background": "light"
     },
     "output_type": "display_data"
    }
   ],
   "source": [
    "from scipy.stats import binom\n",
    "data_binom = binom.rvs(n=30,p=0.9,size=10000)\n",
    "\n",
    "ax = sns.distplot(data_binom,\n",
    "                  kde=False,\n",
    "                  color='skyblue',\n",
    "                  hist_kws={\"linewidth\": 15,'alpha':1})\n",
    "ax.set(xlabel='Binomial Distribution', ylabel='Frequency')"
   ]
  },
  {
   "cell_type": "markdown",
   "metadata": {},
   "source": [
    "## Geométrica\n",
    "Consideremos el caso de lanzar repetidas veces una moneda (`⍬` de que salga cara y `1-⍬` que salga cruz). Sea `X` el numero de cruces que aparece antes de que salga cara.\n",
    "  - Cuenta el numero de fallos hasta que se produce un éxito:\n",
    "  - **Ejemplo**: Si fabricamos bombillas, el numoero de bombillas que funcionan hasta que sale la primera defectuosa\n",
    "  - https://docs.scipy.org/doc/scipy/reference/generated/scipy.stats.geom.html"
   ]
  },
  {
   "cell_type": "code",
   "execution_count": 37,
   "metadata": {},
   "outputs": [
    {
     "data": {
      "text/plain": [
       "[Text(0, 0.5, 'Frequency'), Text(0.5, 0, 'Geometric Distribution')]"
      ]
     },
     "execution_count": 37,
     "metadata": {},
     "output_type": "execute_result"
    },
    {
     "data": {
      "image/png": "[encoded data removed]",
      "text/plain": [
       "<Figure size 432x288 with 1 Axes>"
      ]
     },
     "metadata": {
      "needs_background": "light"
     },
     "output_type": "display_data"
    }
   ],
   "source": [
    "from scipy.stats import geom\n",
    "data_geom = geom.rvs(p=0.3,size=10000)\n",
    "\n",
    "ax = sns.distplot(data_geom,\n",
    "                  kde=False,\n",
    "                  color='skyblue',\n",
    "                  hist_kws={\"linewidth\": 15,'alpha':1})\n",
    "ax.set(xlabel='Geometric Distribution', ylabel='Frequency')"
   ]
  },
  {
   "cell_type": "markdown",
   "metadata": {},
   "source": [
    "## Reference\n",
    "- http://www.stat.yale.edu/Courses/1997-98/101/ranvar.html\n",
    "- https://www.analyticsvidhya.com/blog/2017/09/6-probability-distributions-data-science/\n",
    "- https://www.datacamp.com/community/tutorials/probability-distributions-python#comments"
   ]
  },
  {
   "cell_type": "code",
   "execution_count": null,
   "metadata": {},
   "outputs": [],
   "source": []
  },
  {
   "cell_type": "code",
   "execution_count": null,
   "metadata": {},
   "outputs": [],
   "source": []
  }
 ],
 "metadata": {
  "kernelspec": {
   "display_name": "Python 3",
   "language": "python",
   "name": "python3"
  },
  "language_info": {
   "codemirror_mode": {
    "name": "ipython",
    "version": 3
   },
   "file_extension": ".py",
   "mimetype": "text/x-python",
   "name": "python",
   "nbconvert_exporter": "python",
   "pygments_lexer": "ipython3",
   "version": "3.7.5"
  }
 },
 "nbformat": 4,
 "nbformat_minor": 2
}
