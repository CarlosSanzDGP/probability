{
 "cells": [
  {
   "cell_type": "markdown",
   "metadata": {},
   "source": [
    "# Intro to Probability\n",
    "\n",
    "La probabilidad es una medida de la certidumbre asociada a un suceso o evento futuro y suele expresarse como un número entre 0 y 1 (o entre 0 % y 100 %). \n",
    "\n",
    "Se obtiene la frecuencia de un acontecimiento determinado mediante **la realización de experimentos aleatorios**, de los que **se conocen todos los resultados posibles**, bajo condiciones suficientemente estables. Un suceso puede ser improbable (con probabilidad cercana a 0), probable (probabilidad intermedia) o seguro (con probabilidad uno).\n"
   ]
  },
  {
   "cell_type": "markdown",
   "metadata": {},
   "source": [
    "## Mutual exclusivity of Events\n",
    "\n",
    "Two events are said to be mutually exclusive if they cannot happen at the same time.\n",
    "\n",
    "For example, if we toss a coin, either heads or tails might turn up, but not heads and tails at the same time.\n",
    "\n",
    "<div style=\"text-align:center;\">\n",
    "<img src=\"images/mutual_exclusive_1.png\" style=\"width: 300px; display:inline;\"/>\n",
    "<img src=\"images/mutual_exclusive_3.jpg\" style=\"width: 300px; display:inline;\"/>\n",
    "<img src=\"images/mutual_exclusive_2.png\" style=\"width: 300px;\"/>\n",
    "</div>\n",
    "\n",
    "### Regla de la suma\n",
    "- Eventos `A` y `B` mutuamente excluyentes ( $ A\\cap B=\\varnothing $ ) entonces $P(A\\cup B)=P(A)+P(B)$ \n",
    "-  Eventos `A` y `B`  NO mutuamente excluyentes ( $ A\\cap B\\neq\\varnothing $ ) entonces: $P(A\\cup B)=P(A)+P(B)-P(A\\cap B)$\n",
    "\n",
    "Siendo: $P(A)$ la probabilidad de ocurrencia del evento `A`, $P(B)$ la probabilidad de ocurrencia del evento `B`, y $P(A\\cap B)$ la probabilidad de ocurrencia simultánea de los eventos A y B.\n",
    "\n",
    "### Regla de la multiplicación\n",
    "\n",
    "- $P(A\\cap B)=P(A)P(B)$, si A y B son independientes.\n",
    "- $P(A\\cap B)=P(A)P(B|A)$, si A y B son dependientes.\n",
    "\n",
    "siendo $P(B|A)$ la probabilidad de que ocurra B habiéndose dado o verificado el evento A. \n",
    "\n",
    "Nota: $P(B|A)$ se lee como la **probabilidad de B condicionada de A**\n",
    "\n",
    "## Probabilidad Condicionada\n",
    "\n",
    "- The conditional probability $P(A|B)$ is the probability of event A given that event B as occurred.\n",
    "\n",
    "<img src=\"images/prob_conditional_1.png\" style=\"width: 300px; display:inline;\"/>\n",
    "<img src=\"images/prob_conditional_table.png\" style=\"width: 300px; display:inline;\"/>\n",
    "<img src=\"images/prob_conditional_formula_2.jpg\" style=\"width: 300px; display:inline;\"/>\n",
    "<img src=\"images/prob_conditional_formula_1.jpg\" style=\"width: 300px; display:inline;\"/>\n",
    "\n",
    "### Refs\n",
    "- **Conditional Probability visualized** http://setosa.io/conditional/\n",
    "- **Conditional Probability Explained** https://towardsdatascience.com/conditional-probability-with-a-python-example-fd6f5937cd2\n",
    "- https://es.wikipedia.org/wiki/Probabilidad"
   ]
  },
  {
   "cell_type": "markdown",
   "metadata": {},
   "source": [
    "## Definiciones\n",
    "\n",
    "- **Population:** a population is a set of similar items or events which is of interest for some question or experiment\n",
    "- **Sample**: A subset of the population\n",
    "\n",
    "<img src=\"images/sample-size-definition.png\" style=\"width: 400px;\"/>\n",
    "\n",
    "## Atención, simbolos:\n",
    "- $\\bar{X}$: Representa la media del `sample`\n",
    "- $\\mu$: Representa la media de la población"
   ]
  },
  {
   "cell_type": "markdown",
   "metadata": {},
   "source": [
    "## Ejercicio\n",
    "\n",
    "Un lote contiene \"100\" objetos de los cuales \"20\" son defectuosos. Los objetos son seleccionados uno después del otro para ver si ellos son defectuosos. Suponga que dos objetos son seleccionados sin reemplazo (significa que el objeto que se selecciona al azar se deja por fuera del lote). ¿Cuál es la probabilidad de que los dos objetos seleccionados sean defectuosos?\n",
    "\n",
    "### Solución\n",
    "\n",
    "Sea los eventos\n",
    "\n",
    "$A_{1}=$ primer objeto defectuoso, $A_{2}=$ segundo objeto defectuoso\n",
    "\n",
    "entonces dos objetos seleccionados serán defectuosos, cuando ocurre el evento $A_{1}\\cap A_{2}$ que es la intersección entre los eventos $A_{1}$ y $A_{2}$. \n",
    "\n",
    "De la información dada se tiene que:\n",
    "\n",
    "$$P(A_{1})={\\frac {20}{100}}$$\n",
    "$$P(A_{2}|A_{1})={\\frac {19}{99}}$$\n",
    "\n",
    "\n",
    "así que la probabilidad de que los dos objetos seleccionados sean defectuosos es\n",
    "\n",
    "${\\displaystyle P(A_{1}\\cap A_{2})=P(A_{1})P(A_{2}|A_{1})={\\frac {20}{100}}\\cdot {\\frac {19}{99}}={\\frac {19}{495}}\\simeq 0.038}$\n",
    "\n",
    "\n",
    "Ahora suponga que selecciona un tercer objeto, entonces la probabilidad de que los tres objetos seleccionados sean defectuosos es\n",
    "\n",
    "${\\displaystyle P(A_{1}\\cap A_{2}\\cap A_{3})=P(A_{1})P(A_{2}|A_{1})P(A_{3}|A_{1}\\cap A_{2})={\\frac {20}{100}}\\cdot {\\frac {19}{99}}\\cdot {\\frac {18}{98}}={\\frac {19}{2695}}\\simeq 0.007}$\n"
   ]
  },
  {
   "cell_type": "markdown",
   "metadata": {},
   "source": []
  },
  {
   "cell_type": "markdown",
   "metadata": {},
   "source": [
    "\n",
    "## Selection Bias (sesgo)\n",
    "Se refiere al hecho de realizar un sample consciente o inconscientemente de tal modo que lleve a una conclusión engañosa o efímera.\n"
   ]
  },
  {
   "cell_type": "markdown",
   "metadata": {},
   "source": [
    "## Variance and STD Deviation\n",
    "**Variance**: The average of the squared differences from the Mean.\n",
    "  1. Work out the Mean (the simple average of the numbers)\n",
    "  2. Then for each number: subtract the Mean and square the result (the squared difference).\n",
    "  3. Then work out the average of those squared differences.\n",
    "\n",
    "**Standard Deviation:** Is the squared root of the variance. The Standard Deviation\n",
    "    is a measure of how spread out numbers are. \n",
    "    Its symbol is σ. it is the square root of the **Variance**.\n",
    "    \n",
    "More: [https://www.mathsisfun.com/data/standard-deviation.html]"
   ]
  },
  {
   "cell_type": "code",
   "execution_count": 6,
   "metadata": {},
   "outputs": [
    {
     "name": "stdout",
     "output_type": "stream",
     "text": [
      "0.5012357964230417\n",
      "Variance:0.083 Standard Deviation:0.288 \n"
     ]
    }
   ],
   "source": [
    "X = np.random.random(100000)\n",
    "print(X.mean())\n",
    "var = np.round(X.var(),decimals=3)\n",
    "std = np.round(X.std(),decimals=3)\n",
    "\n",
    "print(f\"Variance:{var} Standard Deviation:{std} \")\n"
   ]
  },
  {
   "cell_type": "code",
   "execution_count": null,
   "metadata": {},
   "outputs": [],
   "source": []
  },
  {
   "cell_type": "markdown",
   "metadata": {},
   "source": [
    "## 1. Ejercicio:\n",
    "Supon que el conjunto universal (un conjunto universal es un conjunto formado por todos los objetos de estudio en un contexto dado) consta de los enteros positivos del 1 al 10.\n",
    "\n",
    "Sean:\n",
    "- $A=\\{2,3,4\\}$\n",
    "- $B=\\{3,4,5\\}$\n",
    "- $C=\\{5,6,7\\}$\n",
    "\n",
    "Anota los elementos de los siguientes conjuntos:\n",
    "1. $\\overline{A} \\cap B$\n",
    "2. $\\overline{A} \\cup B$\n",
    "3. $\\overline{\\overline{A} \\cap \\overline{B}}$\n",
    "4. $\\overline{A \\cap \\overline{(B \\cap C)}}$\n",
    "5. $\\overline{A \\cap (B \\cup C)}$\n",
    "\n",
    "### Solución: \n",
    "\n",
    "`{5}`,`{1,3,4,5,6,7,8,9,10}`,`{2,3,4,5}`,`{1,5,6,7,8,9,10}`,`{1,2,5,6,7,8,8,10}`"
   ]
  },
  {
   "cell_type": "markdown",
   "metadata": {},
   "source": [
    "## 2. Ejercicio\n",
    "\n",
    "Sean `A`,`B`,`C`  tres sucesos asociados conun experimento. Exprese las siguientes proposiciones verbales en notación de conjuntos:\n",
    "\n",
    "1. Al menos uno de los sucesos ocurre\n",
    "2. Exactamente uno de los sucesos ocurre\n",
    "3. Exactamente dos de los sucesos ocurren\n",
    "4. No ocurren más de dos sucesos simultáneamente\n",
    "\n",
    "### Solución\n",
    "\n",
    "1. $A\\cup B \\cup C$\n",
    "2. $ [A\\cap \\overline{B} \\cap \\overline{C}] \\cup [\\overline{A} \\cap B \\cap \\overline{C}] \\cup [\\overline{A}\\cap \\overline{B} \\cap C]$\n",
    "3. up to you\n",
    "4. $ \\overline{A \\cup B \\cap C }$"
   ]
  },
  {
   "cell_type": "markdown",
   "metadata": {},
   "source": [
    "## 3. Ejercicio\n",
    "\n",
    "Un motor eléctrico puede fallar por obstrucción de los cojinetes, por combustión del embobinado o por desgaste de las escobillas.  Supóngase que la probabilidad de la obstrucción es el doble de la de combustión, la cual es cuatro veces mas probable que la inutilización de las escobillas.\n",
    "\n",
    "¿Cuál es la probabilidad de que el fallo sea por cada uno de estos tres mecanismos?\n",
    "\n",
    "### Solución\n",
    "\n",
    "- `Esco: 1/13`, `Comb: 4/13`, `Obs: 8/13`"
   ]
  },
  {
   "cell_type": "code",
   "execution_count": null,
   "metadata": {},
   "outputs": [],
   "source": []
  },
  {
   "cell_type": "code",
   "execution_count": null,
   "metadata": {},
   "outputs": [],
   "source": []
  },
  {
   "cell_type": "code",
   "execution_count": null,
   "metadata": {},
   "outputs": [],
   "source": []
  },
  {
   "cell_type": "markdown",
   "metadata": {},
   "source": []
  }
 ],
 "metadata": {
  "kernelspec": {
   "display_name": "Python 3",
   "language": "python",
   "name": "python3"
  },
  "language_info": {
   "codemirror_mode": {
    "name": "ipython",
    "version": 3
   },
   "file_extension": ".py",
   "mimetype": "text/x-python",
   "name": "python",
   "nbconvert_exporter": "python",
   "pygments_lexer": "ipython3",
   "version": "3.7.5"
  }
 },
 "nbformat": 4,
 "nbformat_minor": 2
}
